{
 "cells": [
  {
   "cell_type": "markdown",
   "metadata": {},
   "source": [
    "                                     Reviews-Delhi"
   ]
  },
  {
   "cell_type": "code",
   "execution_count": 1,
   "metadata": {
    "ExecuteTime": {
     "end_time": "2020-02-03T04:56:50.908560Z",
     "start_time": "2020-02-03T04:56:49.491095Z"
    }
   },
   "outputs": [],
   "source": [
    "import requests\n",
    "from bs4 import BeautifulSoup\n",
    "import pandas as pd\n",
    "import re\n",
    "import time\n",
    "from selenium.common.exceptions import NoSuchElementException\n",
    "import sys"
   ]
  },
  {
   "cell_type": "code",
   "execution_count": 2,
   "metadata": {
    "ExecuteTime": {
     "end_time": "2020-02-03T04:56:50.916558Z",
     "start_time": "2020-02-03T04:56:50.908560Z"
    }
   },
   "outputs": [],
   "source": [
    "header={'user-agent':'Mozilla/5.0 (Windows NT 10.0; Win64; x64) AppleWebKit/537.36 (KHTML, like Gecko) Chrome/79.0.3945.117 Safari/537.36'}"
   ]
  },
  {
   "cell_type": "markdown",
   "metadata": {},
   "source": [
    "## Function to get the webpage"
   ]
  },
  {
   "cell_type": "code",
   "execution_count": 3,
   "metadata": {
    "ExecuteTime": {
     "end_time": "2020-02-03T04:56:50.988560Z",
     "start_time": "2020-02-03T04:56:50.916558Z"
    }
   },
   "outputs": [],
   "source": [
    "def Search(search_query):\n",
    "    url='https://www.practo.com/search?results_type=doctor&q=%5B%7B%22word%22%3A%22general%20physician%22%2C%22autocompleted%22%3Atrue%2C%22category%22%3A%22subspeciality%22%7D%5D&city=Delhi&page='+search_query\n",
    "    time.sleep(1)\n",
    "    page=requests.get(url,headers=header)\n",
    "    if page.status_code==200:\n",
    "        return page\n",
    "    else:\n",
    "        return \"Error\""
   ]
  },
  {
   "cell_type": "markdown",
   "metadata": {},
   "source": [
    "## Function to scrape the link of individual doctor's profile"
   ]
  },
  {
   "cell_type": "code",
   "execution_count": 4,
   "metadata": {
    "ExecuteTime": {
     "end_time": "2020-02-03T05:00:01.097838Z",
     "start_time": "2020-02-03T04:56:50.988560Z"
    }
   },
   "outputs": [],
   "source": [
    "link=[]\n",
    "for i in range(75): #Doctor's profiles are in 75 pages\n",
    "    search_response=Search(str(i)) \n",
    "    soup=BeautifulSoup(search_response.content) #soup has all the content in the page\n",
    "    links= soup.findAll('a',{'class':\"u-color--primary\"}) #acessing the tag in which links are present\n",
    "    for l in links:\n",
    "        link.append(l.get('href')) #saving all the links of the doctor's profile"
   ]
  },
  {
   "cell_type": "code",
   "execution_count": 5,
   "metadata": {
    "ExecuteTime": {
     "end_time": "2020-02-03T05:00:01.105330Z",
     "start_time": "2020-02-03T05:00:01.097838Z"
    }
   },
   "outputs": [],
   "source": [
    "df=pd.DataFrame()\n",
    "\n",
    "df['link']=link #converting links to a dataframe"
   ]
  },
  {
   "cell_type": "markdown",
   "metadata": {},
   "source": [
    "## Function to change the address of the link(so that we will get the recent reviews)"
   ]
  },
  {
   "cell_type": "code",
   "execution_count": 6,
   "metadata": {
    "ExecuteTime": {
     "end_time": "2020-02-03T05:00:01.233543Z",
     "start_time": "2020-02-03T05:00:01.105330Z"
    }
   },
   "outputs": [],
   "source": [
    "def clean(row):\n",
    "    Link=row['link']\n",
    "    Link=Link.split('?')\n",
    "    return Link[0]+'/recent'"
   ]
  },
  {
   "cell_type": "code",
   "execution_count": 7,
   "metadata": {
    "ExecuteTime": {
     "end_time": "2020-02-03T05:00:01.338348Z",
     "start_time": "2020-02-03T05:00:01.237546Z"
    }
   },
   "outputs": [],
   "source": [
    "df['link']=df.apply(lambda row:clean(row),axis=1) #calling function"
   ]
  },
  {
   "cell_type": "code",
   "execution_count": 8,
   "metadata": {
    "ExecuteTime": {
     "end_time": "2020-02-03T05:00:01.390957Z",
     "start_time": "2020-02-03T05:00:01.342351Z"
    }
   },
   "outputs": [],
   "source": [
    "df=df.drop_duplicates(subset='link').reset_index(drop=True) #dropping all the duplicate links"
   ]
  },
  {
   "cell_type": "code",
   "execution_count": 9,
   "metadata": {
    "ExecuteTime": {
     "end_time": "2020-02-03T05:00:01.451980Z",
     "start_time": "2020-02-03T05:00:01.394670Z"
    }
   },
   "outputs": [],
   "source": [
    "Links=df['link']"
   ]
  },
  {
   "cell_type": "markdown",
   "metadata": {
    "ExecuteTime": {
     "end_time": "2020-02-02T07:48:14.606309Z",
     "start_time": "2020-02-02T07:48:14.577387Z"
    }
   },
   "source": [
    "## Initializing selenium \n",
    "\n",
    "###### As we have infinite scrolling, selenium will be easy to click the more button"
   ]
  },
  {
   "cell_type": "code",
   "execution_count": 10,
   "metadata": {
    "ExecuteTime": {
     "end_time": "2020-02-03T05:00:08.325310Z",
     "start_time": "2020-02-03T05:00:01.451980Z"
    }
   },
   "outputs": [],
   "source": [
    "from selenium import webdriver\n",
    "\n",
    "options = webdriver.ChromeOptions()\n",
    "options.add_argument('--ignore-certificate-errors')\n",
    "options.add_argument('--incognito')\n",
    "options.add_argument('--headless')\n",
    "from webdriver_manager.chrome import ChromeDriverManager\n",
    "\n",
    "driver = webdriver.Chrome(executable_path='C:/Users/VIJESH\\Desktop/chromedriver.exe')"
   ]
  },
  {
   "cell_type": "markdown",
   "metadata": {
    "ExecuteTime": {
     "end_time": "2020-02-01T09:56:29.688875Z",
     "start_time": "2020-02-01T09:56:29.681895Z"
    }
   },
   "source": [
    "## Function to click more button (to get all the reviews of the respective doctor)"
   ]
  },
  {
   "cell_type": "code",
   "execution_count": 14,
   "metadata": {
    "ExecuteTime": {
     "end_time": "2020-02-03T05:46:36.317385Z",
     "start_time": "2020-02-03T05:46:36.281386Z"
    }
   },
   "outputs": [],
   "source": [
    "def review_page(query):    \n",
    "    driver.get(\"https://www.practo.com\"+Links[query])  #opens the doctor's profile\n",
    "    for i in range(65):                             #65 times clicks the more reviews button\n",
    "        try:\n",
    "            driver.find_element_by_xpath('//button[@data-qa-id=\"view-more-feedback\"]').click() #click by using Xpath\n",
    "            time.sleep(2)\n",
    "        except NoSuchElementException:\n",
    "            pass\n",
    "    return driver.page_source #returns the page"
   ]
  },
  {
   "cell_type": "markdown",
   "metadata": {
    "ExecuteTime": {
     "end_time": "2020-02-02T06:45:04.004248Z",
     "start_time": "2020-02-02T06:45:03.995274Z"
    }
   },
   "source": [
    "## Function to scrape the reviews"
   ]
  },
  {
   "cell_type": "code",
   "execution_count": 15,
   "metadata": {
    "ExecuteTime": {
     "end_time": "2020-02-03T07:12:09.395571Z",
     "start_time": "2020-02-03T05:46:39.578279Z"
    }
   },
   "outputs": [],
   "source": [
    "review=[]\n",
    "rev=''\n",
    "recom=[]\n",
    "import time\n",
    "for i in range(len(Links)):\n",
    "    soup = BeautifulSoup(review_page(int(i)), 'lxml')  #soup has the content of the doctor's profile\n",
    "    for rev_clas in soup.findAll(attrs={'class':\"feedback__body\"}):#acessing the tag in which reviews are present\n",
    "        for i in rev_clas.findAll(attrs={'data-qa-id':\"review-text\"}):#saves all the patient reviews \n",
    "            rev=rev+i.text\n",
    "        review.append(rev)\n",
    "        rev=''\n",
    "    for rev_clas in soup.findAll(attrs={'class':\"pure-g feedback--item u-cushion--medium-vertical\"}):\n",
    "        for i in rev_clas.findAll(attrs={'class':'u-cushion--small-bottom u-large-font'}):#saves the recommendations\n",
    "            recom.append(i.text)"
   ]
  },
  {
   "cell_type": "code",
   "execution_count": 16,
   "metadata": {
    "ExecuteTime": {
     "end_time": "2020-02-03T07:17:59.952502Z",
     "start_time": "2020-02-03T07:17:59.945520Z"
    }
   },
   "outputs": [
    {
     "data": {
      "text/plain": [
       "5203"
      ]
     },
     "execution_count": 16,
     "metadata": {},
     "output_type": "execute_result"
    }
   ],
   "source": [
    "len(review)"
   ]
  },
  {
   "cell_type": "code",
   "execution_count": 25,
   "metadata": {
    "ExecuteTime": {
     "end_time": "2020-02-04T06:08:11.507070Z",
     "start_time": "2020-02-04T06:08:10.911947Z"
    }
   },
   "outputs": [],
   "source": [
    "df_1=pd.DataFrame()"
   ]
  },
  {
   "cell_type": "code",
   "execution_count": 26,
   "metadata": {
    "ExecuteTime": {
     "end_time": "2020-02-04T06:08:12.420638Z",
     "start_time": "2020-02-04T06:08:12.073123Z"
    }
   },
   "outputs": [],
   "source": [
    "df_1['reviews']=review\n",
    "df_1['recommendation']=recom"
   ]
  },
  {
   "cell_type": "code",
   "execution_count": 27,
   "metadata": {
    "ExecuteTime": {
     "end_time": "2020-02-04T06:08:12.919851Z",
     "start_time": "2020-02-04T06:08:12.709186Z"
    }
   },
   "outputs": [],
   "source": [
    "df_1=df_1.drop_duplicates() #droppping all duplicates"
   ]
  },
  {
   "cell_type": "markdown",
   "metadata": {},
   "source": [
    "## Function to tag the location"
   ]
  },
  {
   "cell_type": "code",
   "execution_count": 28,
   "metadata": {
    "ExecuteTime": {
     "end_time": "2020-02-04T06:08:13.229062Z",
     "start_time": "2020-02-04T06:08:13.169172Z"
    }
   },
   "outputs": [],
   "source": [
    "def location(row):\n",
    "    each_row=row['reviews']\n",
    "    return 'Delhi'"
   ]
  },
  {
   "cell_type": "code",
   "execution_count": 29,
   "metadata": {
    "ExecuteTime": {
     "end_time": "2020-02-04T06:08:13.824549Z",
     "start_time": "2020-02-04T06:08:13.478440Z"
    }
   },
   "outputs": [],
   "source": [
    "df_1['location']=df_1.apply(lambda row:location(row),axis=1) #calling the function"
   ]
  },
  {
   "cell_type": "code",
   "execution_count": 30,
   "metadata": {
    "ExecuteTime": {
     "end_time": "2020-02-04T06:08:14.465298Z",
     "start_time": "2020-02-04T06:08:14.099100Z"
    }
   },
   "outputs": [
    {
     "data": {
      "text/html": [
       "<div>\n",
       "<style scoped>\n",
       "    .dataframe tbody tr th:only-of-type {\n",
       "        vertical-align: middle;\n",
       "    }\n",
       "\n",
       "    .dataframe tbody tr th {\n",
       "        vertical-align: top;\n",
       "    }\n",
       "\n",
       "    .dataframe thead th {\n",
       "        text-align: right;\n",
       "    }\n",
       "</style>\n",
       "<table border=\"1\" class=\"dataframe\">\n",
       "  <thead>\n",
       "    <tr style=\"text-align: right;\">\n",
       "      <th></th>\n",
       "      <th>reviews</th>\n",
       "      <th>recommendation</th>\n",
       "      <th>location</th>\n",
       "    </tr>\n",
       "  </thead>\n",
       "  <tbody>\n",
       "    <tr>\n",
       "      <th>0</th>\n",
       "      <td>Dr Amarpreet treats illness from roots, I got ...</td>\n",
       "      <td>I recommend the doctor</td>\n",
       "      <td>Delhi</td>\n",
       "    </tr>\n",
       "    <tr>\n",
       "      <th>1</th>\n",
       "      <td>I am really thankful to you Sir,for the miracl...</td>\n",
       "      <td>I recommend the doctor</td>\n",
       "      <td>Delhi</td>\n",
       "    </tr>\n",
       "    <tr>\n",
       "      <th>2</th>\n",
       "      <td>Very nice experience. *** ********* ** ****** ...</td>\n",
       "      <td>I recommend the doctor</td>\n",
       "      <td>Delhi</td>\n",
       "    </tr>\n",
       "    <tr>\n",
       "      <th>3</th>\n",
       "      <td>It was a good experience   Doctor is very good...</td>\n",
       "      <td>I recommend the doctor</td>\n",
       "      <td>Delhi</td>\n",
       "    </tr>\n",
       "    <tr>\n",
       "      <th>4</th>\n",
       "      <td>We are very happy with the course of action su...</td>\n",
       "      <td>I recommend the doctor</td>\n",
       "      <td>Delhi</td>\n",
       "    </tr>\n",
       "  </tbody>\n",
       "</table>\n",
       "</div>"
      ],
      "text/plain": [
       "                                             reviews          recommendation  \\\n",
       "0  Dr Amarpreet treats illness from roots, I got ...  I recommend the doctor   \n",
       "1  I am really thankful to you Sir,for the miracl...  I recommend the doctor   \n",
       "2  Very nice experience. *** ********* ** ****** ...  I recommend the doctor   \n",
       "3  It was a good experience   Doctor is very good...  I recommend the doctor   \n",
       "4  We are very happy with the course of action su...  I recommend the doctor   \n",
       "\n",
       "  location  \n",
       "0    Delhi  \n",
       "1    Delhi  \n",
       "2    Delhi  \n",
       "3    Delhi  \n",
       "4    Delhi  "
      ]
     },
     "execution_count": 30,
     "metadata": {},
     "output_type": "execute_result"
    }
   ],
   "source": [
    "df_1.head()"
   ]
  },
  {
   "cell_type": "code",
   "execution_count": 32,
   "metadata": {
    "ExecuteTime": {
     "end_time": "2020-02-04T06:08:29.652156Z",
     "start_time": "2020-02-04T06:08:29.233394Z"
    }
   },
   "outputs": [],
   "source": [
    "df_1.to_csv('doctor_Delhi.csv',index=False) #saving the dataframe as CSV"
   ]
  },
  {
   "cell_type": "code",
   "execution_count": 31,
   "metadata": {
    "ExecuteTime": {
     "end_time": "2020-02-04T06:08:25.608287Z",
     "start_time": "2020-02-04T06:08:25.601285Z"
    }
   },
   "outputs": [
    {
     "data": {
      "text/plain": [
       "4618"
      ]
     },
     "execution_count": 31,
     "metadata": {},
     "output_type": "execute_result"
    }
   ],
   "source": [
    "len(df_1)"
   ]
  },
  {
   "cell_type": "code",
   "execution_count": null,
   "metadata": {},
   "outputs": [],
   "source": []
  }
 ],
 "metadata": {
  "kernelspec": {
   "display_name": "Python 3",
   "language": "python",
   "name": "python3"
  },
  "language_info": {
   "codemirror_mode": {
    "name": "ipython",
    "version": 3
   },
   "file_extension": ".py",
   "mimetype": "text/x-python",
   "name": "python",
   "nbconvert_exporter": "python",
   "pygments_lexer": "ipython3",
   "version": "3.7.5"
  },
  "varInspector": {
   "cols": {
    "lenName": 16,
    "lenType": 16,
    "lenVar": 40
   },
   "kernels_config": {
    "python": {
     "delete_cmd_postfix": "",
     "delete_cmd_prefix": "del ",
     "library": "var_list.py",
     "varRefreshCmd": "print(var_dic_list())"
    },
    "r": {
     "delete_cmd_postfix": ") ",
     "delete_cmd_prefix": "rm(",
     "library": "var_list.r",
     "varRefreshCmd": "cat(var_dic_list()) "
    }
   },
   "types_to_exclude": [
    "module",
    "function",
    "builtin_function_or_method",
    "instance",
    "_Feature"
   ],
   "window_display": false
  }
 },
 "nbformat": 4,
 "nbformat_minor": 2
}
