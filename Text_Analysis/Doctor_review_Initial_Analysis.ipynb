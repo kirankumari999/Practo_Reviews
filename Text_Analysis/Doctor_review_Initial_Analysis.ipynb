{
 "cells": [
  {
   "cell_type": "code",
   "execution_count": 1,
   "metadata": {
    "ExecuteTime": {
     "end_time": "2020-02-11T05:19:54.934874Z",
     "start_time": "2020-02-11T05:19:52.594878Z"
    }
   },
   "outputs": [],
   "source": [
    "import pandas as pd\n",
    "import nltk\n",
    "from nltk.corpus import stopwords\n",
    "from nltk import PorterStemmer as stemmer\n",
    "import string\n",
    "import numpy as np \n",
    "from collections import Counter \n",
    "import string\n",
    "import matplotlib.pyplot as plt\n",
    "import seaborn as sns\n",
    "from matplotlib import rcParams\n",
    "import re\n",
    "from gensim import corpora, models, similarities, matutils\n",
    "from sklearn.feature_extraction.text import CountVectorizer\n",
    "from vaderSentiment.vaderSentiment import SentimentIntensityAnalyzer\n",
    "from nltk.stem import WordNetLemmatizer\n",
    "lemmatizer = WordNetLemmatizer()\n",
    "import os\n",
    "from sklearn.decomposition import NMF\n",
    "from nltk.corpus import wordnet\n",
    "from termcolor import colored\n",
    "import gensim\n",
    "from sklearn.feature_extraction.text import TfidfTransformer\n",
    "from sklearn.feature_extraction.text import TfidfVectorizer\n",
    "from sklearn import metrics\n",
    "from sklearn.preprocessing import Normalizer\n",
    "from sklearn.cluster import KMeans\n",
    "from gensim.utils import simple_preprocess\n",
    "import spacy\n"
   ]
  },
  {
   "cell_type": "code",
   "execution_count": 2,
   "metadata": {
    "ExecuteTime": {
     "end_time": "2020-02-11T05:19:54.942875Z",
     "start_time": "2020-02-11T05:19:54.934874Z"
    }
   },
   "outputs": [],
   "source": [
    "pd.set_option('display.max_colwidth', -1)\n",
    "pd.set_option('display.max_columns', None) "
   ]
  },
  {
   "cell_type": "code",
   "execution_count": 3,
   "metadata": {
    "ExecuteTime": {
     "end_time": "2020-02-11T05:19:55.066884Z",
     "start_time": "2020-02-11T05:19:54.942875Z"
    }
   },
   "outputs": [
    {
     "name": "stdout",
     "output_type": "stream",
     "text": [
      "C:\\Users\\VIJESH\\Desktop\n"
     ]
    }
   ],
   "source": [
    "%cd Desktop"
   ]
  },
  {
   "cell_type": "code",
   "execution_count": 4,
   "metadata": {
    "ExecuteTime": {
     "end_time": "2020-02-11T05:19:55.370876Z",
     "start_time": "2020-02-11T05:19:55.070878Z"
    }
   },
   "outputs": [],
   "source": [
    "bangalore_data=pd.read_csv(\"doctor_Bangalore.csv\")\n",
    "delhi_data=pd.read_csv(\"doctor_Delhi.csv\")\n",
    "mumbai_data=pd.read_csv(\"doctor_Mumbai.csv\")"
   ]
  },
  {
   "cell_type": "code",
   "execution_count": 5,
   "metadata": {
    "ExecuteTime": {
     "end_time": "2020-02-11T05:19:55.519256Z",
     "start_time": "2020-02-11T05:19:55.370876Z"
    },
    "scrolled": true
   },
   "outputs": [],
   "source": [
    "data=pd.concat([bangalore_data,delhi_data,mumbai_data]) #merging all the reviews"
   ]
  },
  {
   "cell_type": "code",
   "execution_count": 6,
   "metadata": {
    "ExecuteTime": {
     "end_time": "2020-02-11T05:19:55.594880Z",
     "start_time": "2020-02-11T05:19:55.522887Z"
    }
   },
   "outputs": [
    {
     "data": {
      "text/plain": [
       "14665"
      ]
     },
     "execution_count": 6,
     "metadata": {},
     "output_type": "execute_result"
    }
   ],
   "source": [
    "len(data) #total length of the data"
   ]
  },
  {
   "cell_type": "code",
   "execution_count": 7,
   "metadata": {
    "ExecuteTime": {
     "end_time": "2020-02-11T05:19:55.674876Z",
     "start_time": "2020-02-11T05:19:55.594880Z"
    }
   },
   "outputs": [
    {
     "data": {
      "text/html": [
       "<div>\n",
       "<style scoped>\n",
       "    .dataframe tbody tr th:only-of-type {\n",
       "        vertical-align: middle;\n",
       "    }\n",
       "\n",
       "    .dataframe tbody tr th {\n",
       "        vertical-align: top;\n",
       "    }\n",
       "\n",
       "    .dataframe thead th {\n",
       "        text-align: right;\n",
       "    }\n",
       "</style>\n",
       "<table border=\"1\" class=\"dataframe\">\n",
       "  <thead>\n",
       "    <tr style=\"text-align: right;\">\n",
       "      <th></th>\n",
       "      <th>reviews</th>\n",
       "      <th>recommendation</th>\n",
       "      <th>location</th>\n",
       "    </tr>\n",
       "  </thead>\n",
       "  <tbody>\n",
       "    <tr>\n",
       "      <th>0</th>\n",
       "      <td>This doctor is so to the point and focused and she asked all the right questions right from the go. Her tone is very accommodating. I am impressed.</td>\n",
       "      <td>I recommend the doctor</td>\n",
       "      <td>Bangalore</td>\n",
       "    </tr>\n",
       "    <tr>\n",
       "      <th>1</th>\n",
       "      <td>*** ** *** **** ****** ** ********** ***** She explains the issue in our body and tells us how to solve it rather than just prescribing medicine. I recommend her</td>\n",
       "      <td>I recommend the doctor</td>\n",
       "      <td>Bangalore</td>\n",
       "    </tr>\n",
       "    <tr>\n",
       "      <th>2</th>\n",
       "      <td>Doctor listened very patiently and explained everything. She advised me medicine. I got little releif. But overall my experience is good with doctor. Thanks Doctor</td>\n",
       "      <td>I recommend the doctor</td>\n",
       "      <td>Bangalore</td>\n",
       "    </tr>\n",
       "    <tr>\n",
       "      <th>3</th>\n",
       "      <td>such a wonderfull doctor who explains clearly *** *** **** * ***** **********I am perfectly alright now ..😊</td>\n",
       "      <td>I recommend the doctor</td>\n",
       "      <td>Bangalore</td>\n",
       "    </tr>\n",
       "    <tr>\n",
       "      <th>4</th>\n",
       "      <td>Even  after booking through practo we had to wait for other patients and they charged extra on top of it. Seriously I don't understand the need of booking through practo . I would never recommend this app to anyone. It's better to go directly and save some money.</td>\n",
       "      <td>I do not recommend the doctor</td>\n",
       "      <td>Bangalore</td>\n",
       "    </tr>\n",
       "  </tbody>\n",
       "</table>\n",
       "</div>"
      ],
      "text/plain": [
       "                                                                                                                                                                                                                                                                   reviews  \\\n",
       "0  This doctor is so to the point and focused and she asked all the right questions right from the go. Her tone is very accommodating. I am impressed.                                                                                                                       \n",
       "1  *** ** *** **** ****** ** ********** ***** She explains the issue in our body and tells us how to solve it rather than just prescribing medicine. I recommend her                                                                                                         \n",
       "2   Doctor listened very patiently and explained everything. She advised me medicine. I got little releif. But overall my experience is good with doctor. Thanks Doctor                                                                                                      \n",
       "3  such a wonderfull doctor who explains clearly *** *** **** * ***** **********I am perfectly alright now ..😊                                                                                                                                                               \n",
       "4  Even  after booking through practo we had to wait for other patients and they charged extra on top of it. Seriously I don't understand the need of booking through practo . I would never recommend this app to anyone. It's better to go directly and save some money.   \n",
       "\n",
       "                  recommendation   location  \n",
       "0  I recommend the doctor         Bangalore  \n",
       "1  I recommend the doctor         Bangalore  \n",
       "2  I recommend the doctor         Bangalore  \n",
       "3  I recommend the doctor         Bangalore  \n",
       "4  I do not recommend the doctor  Bangalore  "
      ]
     },
     "execution_count": 7,
     "metadata": {},
     "output_type": "execute_result"
    }
   ],
   "source": [
    "data.head()"
   ]
  },
  {
   "cell_type": "code",
   "execution_count": 8,
   "metadata": {
    "ExecuteTime": {
     "end_time": "2020-02-11T05:19:55.747127Z",
     "start_time": "2020-02-11T05:19:55.678878Z"
    }
   },
   "outputs": [],
   "source": [
    "data['reviews']=data['reviews'].astype(str) #converts the datatype of the reviews to string"
   ]
  },
  {
   "cell_type": "markdown",
   "metadata": {},
   "source": [
    "## Setting up the stopwords"
   ]
  },
  {
   "cell_type": "code",
   "execution_count": 9,
   "metadata": {
    "ExecuteTime": {
     "end_time": "2020-02-11T05:19:55.950907Z",
     "start_time": "2020-02-11T05:19:55.747127Z"
    }
   },
   "outputs": [],
   "source": [
    "stop_list = stopwords.words('english')+['us']\n",
    "not_stopwords = {'do','does','could','did','had','will','not',\"didn't\",\"doesn't\",\"don't\",\"couldn't\", 'didn', \"didn't\", 'doesn', \"doesn't\", 'hadn', \"hadn't\", 'hasn', \"hasn't\", 'haven', \"haven't\", 'isn', \"isn't\",'mightn', \"mightn't\", 'mustn', \"mustn't\", 'needn', \"needn't\", 'shan', \"shan't\", 'shouldn', \"shouldn't\", 'wasn', \"wasn't\", 'weren', \"weren't\", 'won', \"won't\", 'wouldn', \"wouldn't\"} \n",
    "stop_list = set([word for word in stop_list if word not in not_stopwords])\n",
    "#as few stop words will be useful in our analysis ,those are excluded from the stoplist"
   ]
  },
  {
   "cell_type": "code",
   "execution_count": 10,
   "metadata": {
    "ExecuteTime": {
     "end_time": "2020-02-11T05:19:56.034878Z",
     "start_time": "2020-02-11T05:19:55.954886Z"
    },
    "scrolled": true
   },
   "outputs": [
    {
     "data": {
      "text/plain": [
       "142"
      ]
     },
     "execution_count": 10,
     "metadata": {},
     "output_type": "execute_result"
    }
   ],
   "source": [
    "len(stop_list)"
   ]
  },
  {
   "cell_type": "markdown",
   "metadata": {
    "ExecuteTime": {
     "end_time": "2020-02-11T04:46:49.758936Z",
     "start_time": "2020-02-11T04:46:49.750936Z"
    }
   },
   "source": [
    "## Function to clean the text"
   ]
  },
  {
   "cell_type": "code",
   "execution_count": 11,
   "metadata": {
    "ExecuteTime": {
     "end_time": "2020-02-11T05:19:56.126895Z",
     "start_time": "2020-02-11T05:19:56.034878Z"
    }
   },
   "outputs": [],
   "source": [
    "def clean(row):\n",
    "    s=row['reviews']\n",
    "    word=s.split()\n",
    "    word = [w for w in word if not w in stop_list]    #words passes this ,only if the words are not in stopwords\n",
    "    word=' '.join(word)\n",
    "    lmtzr = nltk.WordNetLemmatizer().lemmatize   \n",
    "\n",
    "\n",
    "    def get_wordnet_pos(treebank_tag):\n",
    "        if treebank_tag.startswith('J'):\n",
    "            return wordnet.ADJ          #returns the root form of the adjective\n",
    "        elif treebank_tag.startswith('V'):\n",
    "            return wordnet.VERB         #returns the root form of the verb\n",
    "        elif treebank_tag.startswith('N'):\n",
    "            return wordnet.NOUN          #returns the root form of the noun\n",
    "        elif treebank_tag.startswith('R'):\n",
    "            return wordnet.ADV           #returns the root form of the adverb\n",
    "        else:\n",
    "            return wordnet.NOUN\n",
    "\n",
    "\n",
    "    def normalize_text(text):\n",
    "        word_pos = nltk.pos_tag(nltk.word_tokenize(text)) #tags the word as adjective or noun or verb or adverb\n",
    "        lemm_words = ' '.join(lmtzr(sw[0], get_wordnet_pos(sw[1])) for sw in word_pos) #calls function and lemmatizes the word\n",
    "\n",
    "        return lemm_words\n",
    "\n",
    "    word=normalize_text(word) #calls the function\n",
    "    word=word.split()\n",
    "    word=[lemmatizer.lemmatize(token,'v') for token in word]\n",
    "    review=' '.join(word)\n",
    "    string.punctuation='!\"#$%&\\()*+,-./:;<=>?@[\\\\]^_`{|}~' \n",
    "    translator = str.maketrans(string.punctuation, ' '*len(string.punctuation)) #removes all the puncuation\n",
    "    clean=review.translate(translator)\n",
    "    cleaned=re.sub(' +',' ',clean)   #removes all extra spaces\n",
    "    return(cleaned)"
   ]
  },
  {
   "cell_type": "code",
   "execution_count": 12,
   "metadata": {
    "ExecuteTime": {
     "end_time": "2020-02-11T05:20:48.076482Z",
     "start_time": "2020-02-11T05:19:56.126895Z"
    }
   },
   "outputs": [],
   "source": [
    "data['text_clean']=data.apply(lambda row:clean(row),axis=1) #calling function"
   ]
  },
  {
   "cell_type": "code",
   "execution_count": 13,
   "metadata": {
    "ExecuteTime": {
     "end_time": "2020-02-11T05:20:48.088513Z",
     "start_time": "2020-02-11T05:20:48.076482Z"
    }
   },
   "outputs": [],
   "source": [
    "data=data.dropna(how='any')  #drops all missing reviews"
   ]
  },
  {
   "cell_type": "code",
   "execution_count": 14,
   "metadata": {
    "ExecuteTime": {
     "end_time": "2020-02-11T05:20:48.204774Z",
     "start_time": "2020-02-11T05:20:48.088513Z"
    }
   },
   "outputs": [
    {
     "data": {
      "text/html": [
       "<div>\n",
       "<style scoped>\n",
       "    .dataframe tbody tr th:only-of-type {\n",
       "        vertical-align: middle;\n",
       "    }\n",
       "\n",
       "    .dataframe tbody tr th {\n",
       "        vertical-align: top;\n",
       "    }\n",
       "\n",
       "    .dataframe thead th {\n",
       "        text-align: right;\n",
       "    }\n",
       "</style>\n",
       "<table border=\"1\" class=\"dataframe\">\n",
       "  <thead>\n",
       "    <tr style=\"text-align: right;\">\n",
       "      <th></th>\n",
       "      <th>reviews</th>\n",
       "      <th>recommendation</th>\n",
       "      <th>location</th>\n",
       "      <th>text_clean</th>\n",
       "    </tr>\n",
       "  </thead>\n",
       "  <tbody>\n",
       "    <tr>\n",
       "      <th>0</th>\n",
       "      <td>This doctor is so to the point and focused and she asked all the right questions right from the go. Her tone is very accommodating. I am impressed.</td>\n",
       "      <td>I recommend the doctor</td>\n",
       "      <td>Bangalore</td>\n",
       "      <td>This doctor point focus ask right question right go Her tone accommodate I impress</td>\n",
       "    </tr>\n",
       "    <tr>\n",
       "      <th>1</th>\n",
       "      <td>*** ** *** **** ****** ** ********** ***** She explains the issue in our body and tells us how to solve it rather than just prescribing medicine. I recommend her</td>\n",
       "      <td>I recommend the doctor</td>\n",
       "      <td>Bangalore</td>\n",
       "      <td>She explain issue body tell solve rather prescribe medicine I recommend</td>\n",
       "    </tr>\n",
       "    <tr>\n",
       "      <th>2</th>\n",
       "      <td>Doctor listened very patiently and explained everything. She advised me medicine. I got little releif. But overall my experience is good with doctor. Thanks Doctor</td>\n",
       "      <td>I recommend the doctor</td>\n",
       "      <td>Bangalore</td>\n",
       "      <td>Doctor listen patiently explain everything She advise medicine I get little releif But overall experience good doctor Thanks Doctor</td>\n",
       "    </tr>\n",
       "    <tr>\n",
       "      <th>3</th>\n",
       "      <td>such a wonderfull doctor who explains clearly *** *** **** * ***** **********I am perfectly alright now ..😊</td>\n",
       "      <td>I recommend the doctor</td>\n",
       "      <td>Bangalore</td>\n",
       "      <td>wonderfull doctor explain clearly I perfectly alright 😊</td>\n",
       "    </tr>\n",
       "    <tr>\n",
       "      <th>4</th>\n",
       "      <td>Even  after booking through practo we had to wait for other patients and they charged extra on top of it. Seriously I don't understand the need of booking through practo . I would never recommend this app to anyone. It's better to go directly and save some money.</td>\n",
       "      <td>I do not recommend the doctor</td>\n",
       "      <td>Bangalore</td>\n",
       "      <td>Even book practo have wait patient charge extra top it Seriously I do n't understand need book practo I would never recommend app anyone It 's good go directly save money</td>\n",
       "    </tr>\n",
       "  </tbody>\n",
       "</table>\n",
       "</div>"
      ],
      "text/plain": [
       "                                                                                                                                                                                                                                                                   reviews  \\\n",
       "0  This doctor is so to the point and focused and she asked all the right questions right from the go. Her tone is very accommodating. I am impressed.                                                                                                                       \n",
       "1  *** ** *** **** ****** ** ********** ***** She explains the issue in our body and tells us how to solve it rather than just prescribing medicine. I recommend her                                                                                                         \n",
       "2   Doctor listened very patiently and explained everything. She advised me medicine. I got little releif. But overall my experience is good with doctor. Thanks Doctor                                                                                                      \n",
       "3  such a wonderfull doctor who explains clearly *** *** **** * ***** **********I am perfectly alright now ..😊                                                                                                                                                               \n",
       "4  Even  after booking through practo we had to wait for other patients and they charged extra on top of it. Seriously I don't understand the need of booking through practo . I would never recommend this app to anyone. It's better to go directly and save some money.   \n",
       "\n",
       "                  recommendation   location  \\\n",
       "0  I recommend the doctor         Bangalore   \n",
       "1  I recommend the doctor         Bangalore   \n",
       "2  I recommend the doctor         Bangalore   \n",
       "3  I recommend the doctor         Bangalore   \n",
       "4  I do not recommend the doctor  Bangalore   \n",
       "\n",
       "                                                                                                                                                                    text_clean  \n",
       "0  This doctor point focus ask right question right go Her tone accommodate I impress                                                                                           \n",
       "1   She explain issue body tell solve rather prescribe medicine I recommend                                                                                                     \n",
       "2  Doctor listen patiently explain everything She advise medicine I get little releif But overall experience good doctor Thanks Doctor                                          \n",
       "3  wonderfull doctor explain clearly I perfectly alright 😊                                                                                                                      \n",
       "4  Even book practo have wait patient charge extra top it Seriously I do n't understand need book practo I would never recommend app anyone It 's good go directly save money   "
      ]
     },
     "execution_count": 14,
     "metadata": {},
     "output_type": "execute_result"
    }
   ],
   "source": [
    "data.head(5)"
   ]
  },
  {
   "cell_type": "code",
   "execution_count": 15,
   "metadata": {
    "ExecuteTime": {
     "end_time": "2020-02-11T05:20:48.268772Z",
     "start_time": "2020-02-11T05:20:48.204774Z"
    }
   },
   "outputs": [],
   "source": [
    "def remove_stop_words(raw_text, stop_list):\n",
    "    raw_text=raw_text.lower()\n",
    "    raw_text=raw_text.replace(\" n't\",'not')\n",
    "    raw_text=raw_text.replace(\" not\",'not')\n",
    "    words = raw_text.split()\n",
    "    word = [w for w in words if not w in stop_list]\n",
    "    review=' '.join(word)\n",
    "    cleaned=re.sub(' +',' ',review)\n",
    "    return(cleaned)"
   ]
  },
  {
   "cell_type": "markdown",
   "metadata": {},
   "source": [
    "## function to perform LDA Topic Modelling"
   ]
  },
  {
   "cell_type": "code",
   "execution_count": 16,
   "metadata": {
    "ExecuteTime": {
     "end_time": "2020-02-11T05:20:48.336768Z",
     "start_time": "2020-02-11T05:20:48.268772Z"
    }
   },
   "outputs": [],
   "source": [
    "def topics(List):\n",
    "    count_vectorizer = CountVectorizer(stop_words='english')\n",
    "    count_vectorizer.fit(List)\n",
    "    counts = count_vectorizer.transform(List).transpose()\n",
    "    corpus = matutils.Sparse2Corpus(counts)\n",
    "    id2word = dict((v, k) for k, v in count_vectorizer.vocabulary_.items())\n",
    "    lda = models.LdaMulticore(corpus=corpus, num_topics=10, id2word=id2word, passes=1)\n",
    "    ldamodel = gensim.models.ldamodel.LdaModel(corpus=corpus,id2word=id2word,num_topics=5,passes=10,alpha='auto',per_word_topics=True)\n",
    "    return lda.print_topics()\n",
    "    "
   ]
  },
  {
   "cell_type": "markdown",
   "metadata": {},
   "source": [
    "## Function to classify the positive and negative reviews"
   ]
  },
  {
   "cell_type": "code",
   "execution_count": 17,
   "metadata": {
    "ExecuteTime": {
     "end_time": "2020-02-11T05:20:48.548776Z",
     "start_time": "2020-02-11T05:20:48.336768Z"
    }
   },
   "outputs": [],
   "source": [
    "def sentiment_scores(recom): \n",
    " \n",
    "    if  recom =='I recommend the doctor' : \n",
    "        return \"Positive\"\n",
    "    else :\n",
    "        return \"Negative\"\n"
   ]
  },
  {
   "cell_type": "code",
   "execution_count": 18,
   "metadata": {
    "ExecuteTime": {
     "end_time": "2020-02-11T05:20:49.056993Z",
     "start_time": "2020-02-11T05:20:48.548776Z"
    }
   },
   "outputs": [],
   "source": [
    "data['sentiment']=data.apply(lambda row:sentiment_scores(row['recommendation']),axis=1) #calling function"
   ]
  },
  {
   "cell_type": "markdown",
   "metadata": {
    "ExecuteTime": {
     "end_time": "2020-02-05T05:40:44.954765Z",
     "start_time": "2020-02-05T05:40:44.941802Z"
    }
   },
   "source": [
    "## First LDA"
   ]
  },
  {
   "cell_type": "code",
   "execution_count": 19,
   "metadata": {
    "ExecuteTime": {
     "end_time": "2020-02-11T05:21:58.343753Z",
     "start_time": "2020-02-11T05:20:49.060775Z"
    }
   },
   "outputs": [
    {
     "data": {
      "text/plain": [
       "[(0,\n",
       "  '0.049*\"doctor\" + 0.028*\"good\" + 0.020*\"problem\" + 0.019*\"dr\" + 0.016*\"treatment\" + 0.016*\"patient\" + 0.012*\"explain\" + 0.009*\"visit\" + 0.008*\"friendly\" + 0.007*\"recommend\"'),\n",
       " (1,\n",
       "  '0.032*\"dr\" + 0.030*\"problem\" + 0.027*\"doctor\" + 0.024*\"patient\" + 0.017*\"friendly\" + 0.017*\"time\" + 0.016*\"treatment\" + 0.016*\"medicine\" + 0.013*\"recommend\" + 0.013*\"good\"'),\n",
       " (2,\n",
       "  '0.038*\"doctor\" + 0.021*\"medicine\" + 0.020*\"explain\" + 0.019*\"visit\" + 0.016*\"problem\" + 0.015*\"dr\" + 0.015*\"time\" + 0.015*\"listen\" + 0.015*\"treatment\" + 0.013*\"friendly\"'),\n",
       " (3,\n",
       "  '0.031*\"doctor\" + 0.026*\"dr\" + 0.020*\"time\" + 0.017*\"treatment\" + 0.015*\"good\" + 0.015*\"problem\" + 0.014*\"explain\" + 0.013*\"patient\" + 0.010*\"experience\" + 0.008*\"recommend\"'),\n",
       " (4,\n",
       "  '0.045*\"doctor\" + 0.035*\"good\" + 0.023*\"dr\" + 0.021*\"experience\" + 0.020*\"treatment\" + 0.015*\"nice\" + 0.014*\"time\" + 0.010*\"hospital\" + 0.010*\"problem\" + 0.010*\"explain\"'),\n",
       " (5,\n",
       "  '0.067*\"doctor\" + 0.038*\"good\" + 0.030*\"patient\" + 0.025*\"experience\" + 0.016*\"problem\" + 0.015*\"treatment\" + 0.014*\"recommend\" + 0.013*\"friendly\" + 0.013*\"time\" + 0.011*\"dr\"'),\n",
       " (6,\n",
       "  '0.036*\"dr\" + 0.036*\"doctor\" + 0.018*\"patient\" + 0.017*\"good\" + 0.016*\"recommend\" + 0.015*\"treatment\" + 0.015*\"listen\" + 0.014*\"problem\" + 0.013*\"visit\" + 0.013*\"time\"'),\n",
       " (7,\n",
       "  '0.061*\"doctor\" + 0.020*\"good\" + 0.020*\"treatment\" + 0.015*\"recommend\" + 0.015*\"dr\" + 0.012*\"hospital\" + 0.011*\"problem\" + 0.010*\"medicine\" + 0.010*\"explain\" + 0.009*\"like\"'),\n",
       " (8,\n",
       "  '0.040*\"doctor\" + 0.029*\"patient\" + 0.018*\"problem\" + 0.017*\"good\" + 0.014*\"dr\" + 0.013*\"medicine\" + 0.013*\"time\" + 0.013*\"recommend\" + 0.011*\"clinic\" + 0.010*\"prescribe\"'),\n",
       " (9,\n",
       "  '0.038*\"doctor\" + 0.031*\"good\" + 0.028*\"dr\" + 0.018*\"medicine\" + 0.018*\"treatment\" + 0.017*\"explain\" + 0.014*\"recommend\" + 0.012*\"issue\" + 0.011*\"problem\" + 0.011*\"patient\"')]"
      ]
     },
     "execution_count": 19,
     "metadata": {},
     "output_type": "execute_result"
    }
   ],
   "source": [
    "topics(data['text_clean']) "
   ]
  },
  {
   "cell_type": "code",
   "execution_count": 20,
   "metadata": {
    "ExecuteTime": {
     "end_time": "2020-02-11T05:21:58.891749Z",
     "start_time": "2020-02-11T05:21:58.343753Z"
    }
   },
   "outputs": [],
   "source": [
    "data['reviews_stop_words'] = data['text_clean'].apply(remove_stop_words, stop_list=stop_list) "
   ]
  },
  {
   "cell_type": "markdown",
   "metadata": {},
   "source": [
    "## updating the stopword"
   ]
  },
  {
   "cell_type": "code",
   "execution_count": 21,
   "metadata": {
    "ExecuteTime": {
     "end_time": "2020-02-11T05:21:58.907753Z",
     "start_time": "2020-02-11T05:21:58.891749Z"
    }
   },
   "outputs": [
    {
     "data": {
      "text/plain": [
       "157"
      ]
     },
     "execution_count": 21,
     "metadata": {},
     "output_type": "execute_result"
    }
   ],
   "source": [
    "extra_stopwords=['nan', 'doctor', \"'s\",'dr','patient','recommend','recommendation','good','experience','would','like','patients','even','though','problem']\n",
    "stop_list.update(extra_stopwords)\n",
    "len(stop_list)"
   ]
  },
  {
   "cell_type": "code",
   "execution_count": 22,
   "metadata": {
    "ExecuteTime": {
     "end_time": "2020-02-11T05:21:59.440146Z",
     "start_time": "2020-02-11T05:21:58.911752Z"
    }
   },
   "outputs": [],
   "source": [
    "data['reviews_stop_words_1'] = data['reviews_stop_words'].apply(remove_stop_words, stop_list=stop_list) "
   ]
  },
  {
   "cell_type": "code",
   "execution_count": 23,
   "metadata": {
    "ExecuteTime": {
     "end_time": "2020-02-11T05:22:00.015751Z",
     "start_time": "2020-02-11T05:21:59.447758Z"
    }
   },
   "outputs": [],
   "source": [
    "data.to_csv('processed_reviews_practo.csv',index=False) #saving the processed reviews as a CSV"
   ]
  },
  {
   "cell_type": "markdown",
   "metadata": {},
   "source": [
    "## Second LDA Topic Modelling"
   ]
  },
  {
   "cell_type": "code",
   "execution_count": 24,
   "metadata": {
    "ExecuteTime": {
     "end_time": "2020-02-11T05:23:19.357825Z",
     "start_time": "2020-02-11T05:22:00.019752Z"
    }
   },
   "outputs": [
    {
     "data": {
      "text/plain": [
       "[(0,\n",
       "  '0.014*\"time\" + 0.012*\"nice\" + 0.010*\"treatment\" + 0.010*\"listen\" + 0.010*\"come\" + 0.009*\"friendly\" + 0.009*\"meet\" + 0.008*\"medicine\" + 0.008*\"explain\" + 0.007*\"day\"'),\n",
       " (1,\n",
       "  '0.022*\"visit\" + 0.018*\"explain\" + 0.018*\"medicine\" + 0.014*\"test\" + 0.013*\"treatment\" + 0.012*\"time\" + 0.010*\"day\" + 0.010*\"friendly\" + 0.009*\"donot\" + 0.009*\"suggest\"'),\n",
       " (2,\n",
       "  '0.020*\"time\" + 0.018*\"visit\" + 0.018*\"treatment\" + 0.017*\"explain\" + 0.014*\"listen\" + 0.010*\"understand\" + 0.010*\"issue\" + 0.009*\"clinic\" + 0.009*\"donot\" + 0.009*\"test\"'),\n",
       " (3,\n",
       "  '0.020*\"time\" + 0.013*\"issue\" + 0.013*\"medicine\" + 0.012*\"clinic\" + 0.011*\"listen\" + 0.011*\"explain\" + 0.010*\"visit\" + 0.009*\"friendly\" + 0.008*\"health\" + 0.008*\"consult\"'),\n",
       " (4,\n",
       "  '0.030*\"treatment\" + 0.024*\"medicine\" + 0.019*\"friendly\" + 0.017*\"listen\" + 0.012*\"time\" + 0.011*\"issue\" + 0.011*\"visit\" + 0.011*\"explain\" + 0.010*\"prescribe\" + 0.008*\"great\"'),\n",
       " (5,\n",
       "  '0.016*\"time\" + 0.013*\"listen\" + 0.012*\"explain\" + 0.011*\"treatment\" + 0.011*\"medicine\" + 0.010*\"friendly\" + 0.010*\"treat\" + 0.009*\"nice\" + 0.007*\"feel\" + 0.007*\"day\"'),\n",
       " (6,\n",
       "  '0.032*\"treatment\" + 0.022*\"time\" + 0.011*\"really\" + 0.010*\"explain\" + 0.009*\"visit\" + 0.009*\"issue\" + 0.008*\"friendly\" + 0.008*\"satisfy\" + 0.007*\"nice\" + 0.007*\"staff\"'),\n",
       " (7,\n",
       "  '0.014*\"explain\" + 0.012*\"treatment\" + 0.012*\"time\" + 0.009*\"care\" + 0.008*\"day\" + 0.008*\"visit\" + 0.008*\"polite\" + 0.007*\"diagnosis\" + 0.007*\"way\" + 0.007*\"thank\"'),\n",
       " (8,\n",
       "  '0.016*\"treatment\" + 0.015*\"time\" + 0.012*\"thank\" + 0.012*\"medication\" + 0.011*\"medicine\" + 0.011*\"test\" + 0.009*\"day\" + 0.009*\"care\" + 0.008*\"prescribe\" + 0.008*\"visit\"'),\n",
       " (9,\n",
       "  '0.021*\"medicine\" + 0.018*\"understand\" + 0.014*\"friendly\" + 0.010*\"listen\" + 0.010*\"treatment\" + 0.009*\"explain\" + 0.008*\"diagnosis\" + 0.008*\"ask\" + 0.007*\"clinic\" + 0.007*\"happy\"')]"
      ]
     },
     "execution_count": 24,
     "metadata": {},
     "output_type": "execute_result"
    }
   ],
   "source": [
    "topics(data['reviews_stop_words_1'])"
   ]
  },
  {
   "cell_type": "code",
   "execution_count": 25,
   "metadata": {
    "ExecuteTime": {
     "end_time": "2020-02-11T05:23:19.369811Z",
     "start_time": "2020-02-11T05:23:19.357825Z"
    }
   },
   "outputs": [
    {
     "data": {
      "text/html": [
       "<div>\n",
       "<style scoped>\n",
       "    .dataframe tbody tr th:only-of-type {\n",
       "        vertical-align: middle;\n",
       "    }\n",
       "\n",
       "    .dataframe tbody tr th {\n",
       "        vertical-align: top;\n",
       "    }\n",
       "\n",
       "    .dataframe thead th {\n",
       "        text-align: right;\n",
       "    }\n",
       "</style>\n",
       "<table border=\"1\" class=\"dataframe\">\n",
       "  <thead>\n",
       "    <tr style=\"text-align: right;\">\n",
       "      <th></th>\n",
       "      <th>reviews</th>\n",
       "      <th>recommendation</th>\n",
       "      <th>location</th>\n",
       "      <th>text_clean</th>\n",
       "      <th>sentiment</th>\n",
       "      <th>reviews_stop_words</th>\n",
       "      <th>reviews_stop_words_1</th>\n",
       "    </tr>\n",
       "  </thead>\n",
       "  <tbody>\n",
       "    <tr>\n",
       "      <th>0</th>\n",
       "      <td>This doctor is so to the point and focused and she asked all the right questions right from the go. Her tone is very accommodating. I am impressed.</td>\n",
       "      <td>I recommend the doctor</td>\n",
       "      <td>Bangalore</td>\n",
       "      <td>This doctor point focus ask right question right go Her tone accommodate I impress</td>\n",
       "      <td>Positive</td>\n",
       "      <td>doctor point focus ask right question right go tone accommodate impress</td>\n",
       "      <td>point focus ask right question right go tone accommodate impress</td>\n",
       "    </tr>\n",
       "    <tr>\n",
       "      <th>1</th>\n",
       "      <td>*** ** *** **** ****** ** ********** ***** She explains the issue in our body and tells us how to solve it rather than just prescribing medicine. I recommend her</td>\n",
       "      <td>I recommend the doctor</td>\n",
       "      <td>Bangalore</td>\n",
       "      <td>She explain issue body tell solve rather prescribe medicine I recommend</td>\n",
       "      <td>Positive</td>\n",
       "      <td>explain issue body tell solve rather prescribe medicine recommend</td>\n",
       "      <td>explain issue body tell solve rather prescribe medicine</td>\n",
       "    </tr>\n",
       "    <tr>\n",
       "      <th>2</th>\n",
       "      <td>Doctor listened very patiently and explained everything. She advised me medicine. I got little releif. But overall my experience is good with doctor. Thanks Doctor</td>\n",
       "      <td>I recommend the doctor</td>\n",
       "      <td>Bangalore</td>\n",
       "      <td>Doctor listen patiently explain everything She advise medicine I get little releif But overall experience good doctor Thanks Doctor</td>\n",
       "      <td>Positive</td>\n",
       "      <td>doctor listen patiently explain everything advise medicine get little releif overall experience good doctor thanks doctor</td>\n",
       "      <td>listen patiently explain everything advise medicine get little releif overall thanks</td>\n",
       "    </tr>\n",
       "    <tr>\n",
       "      <th>3</th>\n",
       "      <td>such a wonderfull doctor who explains clearly *** *** **** * ***** **********I am perfectly alright now ..😊</td>\n",
       "      <td>I recommend the doctor</td>\n",
       "      <td>Bangalore</td>\n",
       "      <td>wonderfull doctor explain clearly I perfectly alright 😊</td>\n",
       "      <td>Positive</td>\n",
       "      <td>wonderfull doctor explain clearly perfectly alright 😊</td>\n",
       "      <td>wonderfull explain clearly perfectly alright 😊</td>\n",
       "    </tr>\n",
       "    <tr>\n",
       "      <th>4</th>\n",
       "      <td>Even  after booking through practo we had to wait for other patients and they charged extra on top of it. Seriously I don't understand the need of booking through practo . I would never recommend this app to anyone. It's better to go directly and save some money.</td>\n",
       "      <td>I do not recommend the doctor</td>\n",
       "      <td>Bangalore</td>\n",
       "      <td>Even book practo have wait patient charge extra top it Seriously I do n't understand need book practo I would never recommend app anyone It 's good go directly save money</td>\n",
       "      <td>Negative</td>\n",
       "      <td>even book practo wait patient charge extra top seriously donot understand need book practo would never recommend app anyone 's good go directly save money</td>\n",
       "      <td>book practo wait charge extra top seriously donot understand need book practo never app anyone go directly save money</td>\n",
       "    </tr>\n",
       "  </tbody>\n",
       "</table>\n",
       "</div>"
      ],
      "text/plain": [
       "                                                                                                                                                                                                                                                                   reviews  \\\n",
       "0  This doctor is so to the point and focused and she asked all the right questions right from the go. Her tone is very accommodating. I am impressed.                                                                                                                       \n",
       "1  *** ** *** **** ****** ** ********** ***** She explains the issue in our body and tells us how to solve it rather than just prescribing medicine. I recommend her                                                                                                         \n",
       "2   Doctor listened very patiently and explained everything. She advised me medicine. I got little releif. But overall my experience is good with doctor. Thanks Doctor                                                                                                      \n",
       "3  such a wonderfull doctor who explains clearly *** *** **** * ***** **********I am perfectly alright now ..😊                                                                                                                                                               \n",
       "4  Even  after booking through practo we had to wait for other patients and they charged extra on top of it. Seriously I don't understand the need of booking through practo . I would never recommend this app to anyone. It's better to go directly and save some money.   \n",
       "\n",
       "                  recommendation   location  \\\n",
       "0  I recommend the doctor         Bangalore   \n",
       "1  I recommend the doctor         Bangalore   \n",
       "2  I recommend the doctor         Bangalore   \n",
       "3  I recommend the doctor         Bangalore   \n",
       "4  I do not recommend the doctor  Bangalore   \n",
       "\n",
       "                                                                                                                                                                    text_clean  \\\n",
       "0  This doctor point focus ask right question right go Her tone accommodate I impress                                                                                            \n",
       "1   She explain issue body tell solve rather prescribe medicine I recommend                                                                                                      \n",
       "2  Doctor listen patiently explain everything She advise medicine I get little releif But overall experience good doctor Thanks Doctor                                           \n",
       "3  wonderfull doctor explain clearly I perfectly alright 😊                                                                                                                       \n",
       "4  Even book practo have wait patient charge extra top it Seriously I do n't understand need book practo I would never recommend app anyone It 's good go directly save money    \n",
       "\n",
       "  sentiment  \\\n",
       "0  Positive   \n",
       "1  Positive   \n",
       "2  Positive   \n",
       "3  Positive   \n",
       "4  Negative   \n",
       "\n",
       "                                                                                                                                           reviews_stop_words  \\\n",
       "0  doctor point focus ask right question right go tone accommodate impress                                                                                      \n",
       "1  explain issue body tell solve rather prescribe medicine recommend                                                                                            \n",
       "2  doctor listen patiently explain everything advise medicine get little releif overall experience good doctor thanks doctor                                    \n",
       "3  wonderfull doctor explain clearly perfectly alright 😊                                                                                                        \n",
       "4  even book practo wait patient charge extra top seriously donot understand need book practo would never recommend app anyone 's good go directly save money   \n",
       "\n",
       "                                                                                                    reviews_stop_words_1  \n",
       "0  point focus ask right question right go tone accommodate impress                                                       \n",
       "1  explain issue body tell solve rather prescribe medicine                                                                \n",
       "2  listen patiently explain everything advise medicine get little releif overall thanks                                   \n",
       "3  wonderfull explain clearly perfectly alright 😊                                                                         \n",
       "4  book practo wait charge extra top seriously donot understand need book practo never app anyone go directly save money  "
      ]
     },
     "execution_count": 25,
     "metadata": {},
     "output_type": "execute_result"
    }
   ],
   "source": [
    "data.head(5)"
   ]
  },
  {
   "cell_type": "code",
   "execution_count": 26,
   "metadata": {
    "ExecuteTime": {
     "end_time": "2020-02-11T05:23:19.530116Z",
     "start_time": "2020-02-11T05:23:19.369811Z"
    }
   },
   "outputs": [],
   "source": [
    "positive_reviews=data.loc[data['sentiment']=='Positive','reviews_stop_words_1'].tolist()#list of positive reviews\n",
    "negative_reviews=data.loc[data['sentiment']=='Negative','reviews_stop_words_1'].tolist()#list of negative reviews"
   ]
  },
  {
   "cell_type": "code",
   "execution_count": null,
   "metadata": {
    "ExecuteTime": {
     "end_time": "2020-02-11T04:37:58.597890Z",
     "start_time": "2020-02-11T04:37:58.357866Z"
    }
   },
   "outputs": [],
   "source": []
  },
  {
   "cell_type": "code",
   "execution_count": 27,
   "metadata": {
    "ExecuteTime": {
     "end_time": "2020-02-11T05:23:19.598307Z",
     "start_time": "2020-02-11T05:23:19.530116Z"
    }
   },
   "outputs": [],
   "source": [
    "def commonwords(review,top):\n",
    "    reviews=\" \".join(review)\n",
    "    tokenised_reviews=reviews.split(\" \")\n",
    "    \n",
    "    \n",
    "    freq_counter=Counter(tokenised_reviews) #counts the occurance\n",
    "    return freq_counter.most_common(top)"
   ]
  },
  {
   "cell_type": "code",
   "execution_count": 28,
   "metadata": {
    "ExecuteTime": {
     "end_time": "2020-02-11T05:23:19.874305Z",
     "start_time": "2020-02-11T05:23:19.598307Z"
    }
   },
   "outputs": [],
   "source": [
    "top_30_positive_review_words=commonwords(positive_reviews,30) #top 30 positive reviews\n",
    "top_30_negative_review_words=commonwords(negative_reviews,30) #top 30 negative reviews"
   ]
  },
  {
   "cell_type": "code",
   "execution_count": 29,
   "metadata": {
    "ExecuteTime": {
     "end_time": "2020-02-11T05:23:20.090307Z",
     "start_time": "2020-02-11T05:23:19.874305Z"
    }
   },
   "outputs": [],
   "source": [
    "def plotCommonWords(reviews,top,title=\"Positive Review\",color=\"blue\",axis=None):\n",
    "    top_words=commonwords(reviews,top=top)\n",
    "    data=pd.DataFrame()\n",
    "    data['words']=[val[0] for val in top_words]\n",
    "    data['freq']=[val[1] for val in top_words]\n",
    "    if axis!=None:\n",
    "        sns.barplot(y='words',x='freq',data=data,color=color,ax=axis).set_title(title+\" top \"+str(top))\n",
    "    else:\n",
    "        sns.barplot(y='words',x='freq',data=data,color=color).set_title(title+\" top \"+str(top))"
   ]
  },
  {
   "cell_type": "code",
   "execution_count": 30,
   "metadata": {
    "ExecuteTime": {
     "end_time": "2020-02-11T05:23:20.322307Z",
     "start_time": "2020-02-11T05:23:20.090307Z"
    }
   },
   "outputs": [],
   "source": [
    "def generateNGram(text,n):\n",
    "    text=re.sub(' +',' ',text)\n",
    "    tokens = [token for token in text.split(\" \") if token != \"\"]\n",
    "    ngrams = zip(*[tokens[i:] for i in range(n)])\n",
    "    return [\"_\".join(ngram) for ngram in ngrams] #joins two consecutive words"
   ]
  },
  {
   "cell_type": "code",
   "execution_count": 31,
   "metadata": {
    "ExecuteTime": {
     "end_time": "2020-02-11T05:23:20.618304Z",
     "start_time": "2020-02-11T05:23:20.322307Z"
    }
   },
   "outputs": [],
   "source": [
    "positive_review_bigrams=[\" \".join(generateNGram(review,3)) for review in positive_reviews] #positive  bigrams\n",
    "negative_review_bigrams=[\" \".join(generateNGram(review,3)) for review in negative_reviews] #negative bigrams"
   ]
  },
  {
   "cell_type": "code",
   "execution_count": 32,
   "metadata": {
    "ExecuteTime": {
     "end_time": "2020-02-11T05:23:21.610306Z",
     "start_time": "2020-02-11T05:23:20.618304Z"
    }
   },
   "outputs": [
    {
     "data": {
      "image/png": "[encoded data removed]",
      "text/plain": [
       "<Figure size 720x720 with 2 Axes>"
      ]
     },
     "metadata": {
      "needs_background": "light"
     },
     "output_type": "display_data"
    }
   ],
   "source": [
    "rcParams['figure.figsize'] = 10,10\n",
    "fig,ax=plt.subplots(1,2)\n",
    "fig.subplots_adjust(wspace=1) #Adjusts the space between the two plots\n",
    "plotCommonWords(positive_review_bigrams,30,\"Positive Review Bigrams\",axis=ax[0])\n",
    "\n",
    "plotCommonWords(negative_review_bigrams,30,\"Negative Review Bigrams\",color=\"red\",axis=ax[1])"
   ]
  },
  {
   "cell_type": "markdown",
   "metadata": {},
   "source": [
    "## Common words"
   ]
  },
  {
   "cell_type": "code",
   "execution_count": 33,
   "metadata": {
    "ExecuteTime": {
     "end_time": "2020-02-11T05:23:24.806326Z",
     "start_time": "2020-02-11T05:23:21.610306Z"
    }
   },
   "outputs": [
    {
     "data": {
      "image/png": "[encoded data removed]",
      "text/plain": [
       "<Figure size 1080x667.491 with 1 Axes>"
      ]
     },
     "metadata": {
      "needs_background": "light"
     },
     "output_type": "display_data"
    }
   ],
   "source": [
    "from sklearn.feature_extraction.text import CountVectorizer\n",
    "import numpy as np\n",
    "import matplotlib.pyplot as plt\n",
    "import seaborn as sns\n",
    "sns.set_style('whitegrid')\n",
    "%matplotlib inline\n",
    "# Helper function\n",
    "def plot_10_most_common_words(count_data, count_vectorizer):\n",
    "    import matplotlib.pyplot as plt\n",
    "    words = count_vectorizer.get_feature_names()\n",
    "    total_counts = np.zeros(len(words))\n",
    "    for t in count_data:\n",
    "        total_counts+=t.toarray()[0]\n",
    "    \n",
    "    count_dict = (zip(words, total_counts))\n",
    "    count_dict = sorted(count_dict, key=lambda x:x[1], reverse=True)[0:10]\n",
    "    words = [w[0] for w in count_dict]\n",
    "    counts = [w[1] for w in count_dict]\n",
    "    x_pos = np.arange(len(words)) \n",
    "    \n",
    "    plt.figure(2, figsize=(15, 15/1.6180))\n",
    "    plt.subplot(title='10 most common words')\n",
    "    sns.set_context(\"notebook\", font_scale=1.25, rc={\"lines.linewidth\": 2.5})\n",
    "    sns.barplot(x_pos, counts, palette='husl')\n",
    "    plt.xticks(x_pos, words, rotation=90) \n",
    "    plt.xlabel('words')\n",
    "    plt.ylabel('counts')\n",
    "    plt.show()\n",
    "# Initialise the count vectorizer with the English stop words\n",
    "count_vectorizer = CountVectorizer(stop_words='english')\n",
    "# Fit and transform the processed titles\n",
    "count_data = count_vectorizer.fit_transform(data['reviews_stop_words_1'])\n",
    "# Visualise the 10 most common words\n",
    "plot_10_most_common_words(count_data, count_vectorizer)"
   ]
  },
  {
   "cell_type": "code",
   "execution_count": 34,
   "metadata": {
    "ExecuteTime": {
     "end_time": "2020-02-11T05:23:54.042293Z",
     "start_time": "2020-02-11T05:23:24.810309Z"
    },
    "scrolled": false
   },
   "outputs": [
    {
     "name": "stdout",
     "output_type": "stream",
     "text": [
      "Topics found via LDA:\n",
      "\n",
      "Topic #0:\n",
      "time wait donot appointment test visit ask consultation medicine clinic hour come say tell practo fee day charge minute hospital book bad available prescribe make money report need pay min\n",
      "\n",
      "Topic #1:\n",
      "listen explain medicine friendly patiently prescribe medication understand time issue treatment nice carefully suggest diagnosis visit feel advise polite make question hear patience highly help really helpful best overall great\n",
      "\n",
      "Topic #2:\n",
      "hospital treatment day visit clinic medicine blood sugar come thank tell mother father say really staff report test donot high level meet ask great care fever diabetes happy check control\n",
      "\n",
      "Topic #3:\n",
      "treatment friendly explain time issue health understand family medicine satisfy visit treat care test really way happy excellent great highly year cause nice person best unnecessary make diagnosis suggest donot\n",
      "\n",
      "Topic #4:\n",
      "treatment medicine visit day pain result suffer fever thanks relief thank month clinic cough treat feel laxman year monga therapy infection week prescribe cold consult test nap happy help jonwal\n",
      "\n",
      "\n",
      "Topics found via nmf_Z:\n",
      "\n",
      "Topic #0:\n",
      "day visit donot ask hospital test say tell come report check fever clinic blood suggest staff pain feel charge make admit consultation pay start nurse consult need medication high ajit\n",
      "\n",
      "Topic #1:\n",
      "treatment satisfy happy visit thank year best result thanks clinic really diabetes excellent great family treat diagnosis feel father staff nice start care suffer month advise highly consult provide disease\n",
      "\n",
      "Topic #2:\n",
      "medicine prescribe test listen unnecessary suggest donot pain fever understand patiently write carefully work visit advise relief month nice cure require high really need lot cough thanks result best help\n",
      "\n",
      "Topic #3:\n",
      "time wait appointment clinic visit understand hour spend long consultation come meet book staff really minute need 30 donot available practo right make doc money 10 family reach min know\n",
      "\n",
      "Topic #4:\n",
      "explain friendly issue listen health patiently understand medication way nice care make feel treat cause really family highly visit great carefully thank diagnosis help polite patience suggest clearly best comfortable\n",
      "\n",
      "\n",
      "Topics found via lsi_Z:\n",
      "\n",
      "Topic #0:\n",
      "treatment time medicine visit explain day donot test listen friendly issue ask prescribe clinic hospital say suggest come health understand feel really tell make medication wait fever thank treat appointment\n",
      "\n",
      "Topic #1:\n",
      "medicine donot day ask test say tell prescribe hospital time visit come report check appointment wait fever blood charge pay hour nurse admit ajit unnecessary need grandmother pain bad use\n",
      "\n",
      "Topic #2:\n",
      "time wait hospital appointment come staff say visit clinic ask hour treatment donot tell day consultation book nurse practo long pay charge 30 make admit meet reach leave right spend\n",
      "\n",
      "Topic #3:\n",
      "treatment day hospital say ask donot test visit tell come fever report pain blood admit check result nurse start ajit staff grandmother suffer normal charge pay month shetty high water\n",
      "\n",
      "Topic #4:\n",
      "explain friendly issue health listen test hospital ask say donot day report medication patiently way tell make check care staff suggest treat feel nurse condition blood admit come clearly ajit\n"
     ]
    }
   ],
   "source": [
    "import warnings\n",
    "warnings.simplefilter(\"ignore\", DeprecationWarning)\n",
    "# Load the LDA model from sk-learn\n",
    "from sklearn.decomposition import LatentDirichletAllocation as LDA\n",
    "from sklearn.decomposition import TruncatedSVD\n",
    "# Helper function\n",
    "def print_topics(model, count_vectorizer, n_top_words):\n",
    "    words = count_vectorizer.get_feature_names()\n",
    "    for topic_idx, topic in enumerate(model.components_):\n",
    "        print(\"\\nTopic #%d:\" % topic_idx)\n",
    "        print(\" \".join([words[i]\n",
    "                        for i in topic.argsort()[:-n_top_words - 1:-1]]))\n",
    "        \n",
    "# Tweak the two parameters below\n",
    "number_topics = 5\n",
    "number_words = 30\n",
    "# Create and fit the LDA model\n",
    "lda = LDA(n_components=number_topics, n_jobs=-1)\n",
    "lda.fit(count_data)\n",
    "# Print the topics found by the LDA model\n",
    "print(colored(\"Topics found via LDA:\",'green'))\n",
    "print_topics(lda, count_vectorizer, number_words)\n",
    "\n",
    "# Build a Non-Negative Matrix Factorization Model\n",
    "nmf_model = NMF(n_components=number_topics)\n",
    "nmf_model.fit(count_data)\n",
    "print('\\n')\n",
    "print (colored(\"Topics found via nmf_Z:\",'green'))\n",
    "print_topics(nmf_model, count_vectorizer, number_words)\n",
    "\n",
    "print('\\n')\n",
    "print (colored(\"Topics found via lsi_Z:\",'green'))\n",
    "# Build a Latent Semantic Indexing Model\n",
    "lsi_model = TruncatedSVD(n_components=number_topics)\n",
    "lsi_Z = lsi_model.fit(count_data)\n",
    "print_topics(lsi_Z, count_vectorizer, number_words)\n"
   ]
  },
  {
   "cell_type": "code",
   "execution_count": 35,
   "metadata": {
    "ExecuteTime": {
     "end_time": "2020-02-11T05:24:06.242289Z",
     "start_time": "2020-02-11T05:23:54.046291Z"
    },
    "scrolled": false
   },
   "outputs": [
    {
     "name": "stdout",
     "output_type": "stream",
     "text": [
      "Cluster 0\n",
      "\n",
      "time\n",
      "explain\n",
      "understand\n",
      "treat\n",
      "care\n",
      "nice\n",
      "great\n",
      "really\n",
      "medication\n",
      "thank\n",
      "\n",
      "\n",
      "Cluster 1\n",
      "\n",
      "wait\n",
      "appointment\n",
      "time\n",
      "wait time\n",
      "hour\n",
      "book\n",
      "come\n",
      "donot\n",
      "practo\n",
      "clinic\n",
      "\n",
      "\n",
      "Cluster 2\n",
      "\n",
      "listen\n",
      "patiently\n",
      "listen patiently\n",
      "explain\n",
      "patiently listen\n",
      "time\n",
      "patience\n",
      "patiently explain\n",
      "medication\n",
      "friendly listen\n",
      "\n",
      "\n",
      "Cluster 3\n",
      "\n",
      "treatment\n",
      "satisfy\n",
      "satisfy treatment\n",
      "happy\n",
      "explain\n",
      "time\n",
      "thank\n",
      "happy treatment\n",
      "diagnosis\n",
      "nice\n",
      "\n",
      "\n",
      "Cluster 4\n",
      "\n",
      "medicine\n",
      "prescribe\n",
      "prescribe medicine\n",
      "day\n",
      "donot\n",
      "explain\n",
      "time\n",
      "listen\n",
      "suggest\n",
      "medicine prescribe\n",
      "\n",
      "\n",
      "Cluster 5\n",
      "\n",
      "issue\n",
      "health\n",
      "health issue\n",
      "explain\n",
      "explain issue\n",
      "friendly\n",
      "understand\n",
      "time\n",
      "treatment\n",
      "listen\n",
      "\n",
      "\n",
      "Cluster 6\n",
      "\n",
      "visit\n",
      "time\n",
      "clinic\n",
      "treatment\n",
      "day\n",
      "medicine\n",
      "say\n",
      "year\n",
      "feel\n",
      "donot\n",
      "\n",
      "\n",
      "Cluster 7\n",
      "\n",
      "friendly\n",
      "explain\n",
      "treatment\n",
      "friendly explain\n",
      "nature\n",
      "time\n",
      "nice\n",
      "understand\n",
      "friendly listen\n",
      "polite\n",
      "\n",
      "\n",
      "Cluster 8\n",
      "\n",
      "carefully\n",
      "listen carefully\n",
      "listen\n",
      "medicine\n",
      "listens\n",
      "friendly\n",
      "time\n",
      "treatment\n",
      "explain\n",
      "nice\n",
      "\n",
      "\n",
      "Cluster 9\n",
      "\n",
      "test\n",
      "unnecessary\n",
      "unnecessary test\n",
      "report\n",
      "donot\n",
      "medicine\n",
      "blood\n",
      "suggest\n",
      "ask\n",
      "prescribe\n",
      "\n",
      "\n"
     ]
    }
   ],
   "source": [
    "tf_idf = TfidfVectorizer(stop_words='english', ngram_range=(1, 4), min_df=25, max_df=0.98)\n",
    "tf_idf_vecs = tf_idf.fit_transform(data['reviews_stop_words_1'])\n",
    "\n",
    "lsa = TruncatedSVD(100, algorithm='arpack')\n",
    "lsa_vecs = lsa.fit_transform(tf_idf_vecs)\n",
    "lsa_vecs = Normalizer(copy=False).fit_transform(lsa_vecs)\n",
    "feature_names = tf_idf.get_feature_names()\n",
    "lsa_df = pd.DataFrame(lsa.components_.round(5), columns=feature_names)\n",
    "\n",
    "km = KMeans(n_clusters=10, init='k-means++')\n",
    "km.fit(lsa_vecs)\n",
    "clusters = km.predict(lsa_vecs)\n",
    "\n",
    "km.cluster_centers_.shape\n",
    "\n",
    "original_space_centroids = lsa.inverse_transform(km.cluster_centers_)\n",
    "original_space_centroids.shape\n",
    "\n",
    "order_centroids = original_space_centroids.argsort()[:, ::-1]\n",
    "order_centroids.shape\n",
    "\n",
    "for cluster in range(10):\n",
    "    features = order_centroids[cluster,0:10]\n",
    "    print('Cluster {}\\n'.format(cluster))\n",
    "    for feature in features:\n",
    "        print(feature_names[feature])\n",
    "    print('\\n')"
   ]
  }
 ],
 "metadata": {
  "kernelspec": {
   "display_name": "Python 3",
   "language": "python",
   "name": "python3"
  },
  "language_info": {
   "codemirror_mode": {
    "name": "ipython",
    "version": 3
   },
   "file_extension": ".py",
   "mimetype": "text/x-python",
   "name": "python",
   "nbconvert_exporter": "python",
   "pygments_lexer": "ipython3",
   "version": "3.7.5"
  },
  "varInspector": {
   "cols": {
    "lenName": 16,
    "lenType": 16,
    "lenVar": 40
   },
   "kernels_config": {
    "python": {
     "delete_cmd_postfix": "",
     "delete_cmd_prefix": "del ",
     "library": "var_list.py",
     "varRefreshCmd": "print(var_dic_list())"
    },
    "r": {
     "delete_cmd_postfix": ") ",
     "delete_cmd_prefix": "rm(",
     "library": "var_list.r",
     "varRefreshCmd": "cat(var_dic_list()) "
    }
   },
   "types_to_exclude": [
    "module",
    "function",
    "builtin_function_or_method",
    "instance",
    "_Feature"
   ],
   "window_display": false
  }
 },
 "nbformat": 4,
 "nbformat_minor": 2
}
