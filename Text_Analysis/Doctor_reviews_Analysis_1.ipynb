{
 "cells": [
  {
   "cell_type": "code",
   "execution_count": 1,
   "metadata": {
    "ExecuteTime": {
     "end_time": "2020-02-24T10:26:39.320502Z",
     "start_time": "2020-02-24T10:25:53.244533Z"
    }
   },
   "outputs": [],
   "source": [
    "import pandas as pd\n",
    "from sklearn.feature_extraction.text import CountVectorizer\n",
    "import numpy as np\n",
    "import matplotlib.pyplot as plt\n",
    "import seaborn as sns\n",
    "from termcolor import colored\n",
    "from sklearn.feature_extraction.text import TfidfTransformer\n",
    "from sklearn.feature_extraction.text import TfidfVectorizer\n",
    "from sklearn import metrics\n",
    "from sklearn.preprocessing import Normalizer\n",
    "from sklearn.cluster import KMeans\n",
    "from sklearn.decomposition import NMF\n",
    "from gensim import corpora, models, similarities, matutils\n",
    "import gensim\n",
    "import dexplot as dxp\n",
    "from collections import Counter\n",
    "from matplotlib import rcParams\n",
    "from gensim import corpora, models, similarities\n",
    "from itertools import chain\n",
    "from sklearn.cluster import MeanShift"
   ]
  },
  {
   "cell_type": "code",
   "execution_count": 2,
   "metadata": {
    "ExecuteTime": {
     "end_time": "2020-02-24T10:26:39.328495Z",
     "start_time": "2020-02-24T10:26:39.320502Z"
    }
   },
   "outputs": [],
   "source": [
    "pd.set_option('display.max_colwidth', -1)\n",
    "pd.set_option('display.max_columns', None) "
   ]
  },
  {
   "cell_type": "code",
   "execution_count": 3,
   "metadata": {
    "ExecuteTime": {
     "end_time": "2020-02-24T10:26:39.462787Z",
     "start_time": "2020-02-24T10:26:39.328495Z"
    }
   },
   "outputs": [
    {
     "name": "stdout",
     "output_type": "stream",
     "text": [
      "C:\\Users\\VIJESH\\desktop\n"
     ]
    }
   ],
   "source": [
    "cd desktop"
   ]
  },
  {
   "cell_type": "code",
   "execution_count": 4,
   "metadata": {
    "ExecuteTime": {
     "end_time": "2020-02-24T10:26:40.051295Z",
     "start_time": "2020-02-24T10:26:39.466785Z"
    }
   },
   "outputs": [],
   "source": [
    "data=pd.read_csv(\"processed_reviews_practo.csv\") #importing the processed reviews"
   ]
  },
  {
   "cell_type": "code",
   "execution_count": 5,
   "metadata": {
    "ExecuteTime": {
     "end_time": "2020-02-24T10:26:40.187066Z",
     "start_time": "2020-02-24T10:26:40.051295Z"
    }
   },
   "outputs": [
    {
     "data": {
      "text/html": [
       "<div>\n",
       "<style scoped>\n",
       "    .dataframe tbody tr th:only-of-type {\n",
       "        vertical-align: middle;\n",
       "    }\n",
       "\n",
       "    .dataframe tbody tr th {\n",
       "        vertical-align: top;\n",
       "    }\n",
       "\n",
       "    .dataframe thead th {\n",
       "        text-align: right;\n",
       "    }\n",
       "</style>\n",
       "<table border=\"1\" class=\"dataframe\">\n",
       "  <thead>\n",
       "    <tr style=\"text-align: right;\">\n",
       "      <th></th>\n",
       "      <th>reviews</th>\n",
       "      <th>recommendation</th>\n",
       "      <th>location</th>\n",
       "      <th>text_clean</th>\n",
       "      <th>sentiment</th>\n",
       "      <th>reviews_stop_words</th>\n",
       "      <th>reviews_stop_words_1</th>\n",
       "    </tr>\n",
       "  </thead>\n",
       "  <tbody>\n",
       "    <tr>\n",
       "      <th>0</th>\n",
       "      <td>This doctor is so to the point and focused and she asked all the right questions right from the go. Her tone is very accommodating. I am impressed.</td>\n",
       "      <td>I recommend the doctor</td>\n",
       "      <td>Bangalore</td>\n",
       "      <td>This doctor point focus ask right question right go Her tone accommodate I impress</td>\n",
       "      <td>Positive</td>\n",
       "      <td>doctor point focus ask right question right go tone accommodate impress</td>\n",
       "      <td>point focus ask right question right go tone accommodate impress</td>\n",
       "    </tr>\n",
       "    <tr>\n",
       "      <th>1</th>\n",
       "      <td>*** ** *** **** ****** ** ********** ***** She explains the issue in our body and tells us how to solve it rather than just prescribing medicine. I recommend her</td>\n",
       "      <td>I recommend the doctor</td>\n",
       "      <td>Bangalore</td>\n",
       "      <td>She explain issue body tell solve rather prescribe medicine I recommend</td>\n",
       "      <td>Positive</td>\n",
       "      <td>explain issue body tell solve rather prescribe medicine recommend</td>\n",
       "      <td>explain issue body tell solve rather prescribe medicine</td>\n",
       "    </tr>\n",
       "    <tr>\n",
       "      <th>2</th>\n",
       "      <td>Doctor listened very patiently and explained everything. She advised me medicine. I got little releif. But overall my experience is good with doctor. Thanks Doctor</td>\n",
       "      <td>I recommend the doctor</td>\n",
       "      <td>Bangalore</td>\n",
       "      <td>Doctor listen patiently explain everything She advise medicine I get little releif But overall experience good doctor Thanks Doctor</td>\n",
       "      <td>Positive</td>\n",
       "      <td>doctor listen patiently explain everything advise medicine get little releif overall experience good doctor thanks doctor</td>\n",
       "      <td>listen patiently explain everything advise medicine get little releif overall thanks</td>\n",
       "    </tr>\n",
       "    <tr>\n",
       "      <th>3</th>\n",
       "      <td>such a wonderfull doctor who explains clearly *** *** **** * ***** **********I am perfectly alright now ..😊</td>\n",
       "      <td>I recommend the doctor</td>\n",
       "      <td>Bangalore</td>\n",
       "      <td>wonderfull doctor explain clearly I perfectly alright 😊</td>\n",
       "      <td>Positive</td>\n",
       "      <td>wonderfull doctor explain clearly perfectly alright 😊</td>\n",
       "      <td>wonderfull explain clearly perfectly alright 😊</td>\n",
       "    </tr>\n",
       "    <tr>\n",
       "      <th>4</th>\n",
       "      <td>Even  after booking through practo we had to wait for other patients and they charged extra on top of it. Seriously I don't understand the need of booking through practo . I would never recommend this app to anyone. It's better to go directly and save some money.</td>\n",
       "      <td>I do not recommend the doctor</td>\n",
       "      <td>Bangalore</td>\n",
       "      <td>Even book practo have wait patient charge extra top it Seriously I do n't understand need book practo I would never recommend app anyone It 's good go directly save money</td>\n",
       "      <td>Negative</td>\n",
       "      <td>even book practo wait patient charge extra top seriously donot understand need book practo would never recommend app anyone 's good go directly save money</td>\n",
       "      <td>book practo wait charge extra top seriously donot understand need book practo never app anyone go directly save money</td>\n",
       "    </tr>\n",
       "  </tbody>\n",
       "</table>\n",
       "</div>"
      ],
      "text/plain": [
       "                                                                                                                                                                                                                                                                   reviews  \\\n",
       "0  This doctor is so to the point and focused and she asked all the right questions right from the go. Her tone is very accommodating. I am impressed.                                                                                                                       \n",
       "1  *** ** *** **** ****** ** ********** ***** She explains the issue in our body and tells us how to solve it rather than just prescribing medicine. I recommend her                                                                                                         \n",
       "2   Doctor listened very patiently and explained everything. She advised me medicine. I got little releif. But overall my experience is good with doctor. Thanks Doctor                                                                                                      \n",
       "3  such a wonderfull doctor who explains clearly *** *** **** * ***** **********I am perfectly alright now ..😊                                                                                                                                                               \n",
       "4  Even  after booking through practo we had to wait for other patients and they charged extra on top of it. Seriously I don't understand the need of booking through practo . I would never recommend this app to anyone. It's better to go directly and save some money.   \n",
       "\n",
       "                  recommendation   location  \\\n",
       "0  I recommend the doctor         Bangalore   \n",
       "1  I recommend the doctor         Bangalore   \n",
       "2  I recommend the doctor         Bangalore   \n",
       "3  I recommend the doctor         Bangalore   \n",
       "4  I do not recommend the doctor  Bangalore   \n",
       "\n",
       "                                                                                                                                                                    text_clean  \\\n",
       "0  This doctor point focus ask right question right go Her tone accommodate I impress                                                                                            \n",
       "1   She explain issue body tell solve rather prescribe medicine I recommend                                                                                                      \n",
       "2  Doctor listen patiently explain everything She advise medicine I get little releif But overall experience good doctor Thanks Doctor                                           \n",
       "3  wonderfull doctor explain clearly I perfectly alright 😊                                                                                                                       \n",
       "4  Even book practo have wait patient charge extra top it Seriously I do n't understand need book practo I would never recommend app anyone It 's good go directly save money    \n",
       "\n",
       "  sentiment  \\\n",
       "0  Positive   \n",
       "1  Positive   \n",
       "2  Positive   \n",
       "3  Positive   \n",
       "4  Negative   \n",
       "\n",
       "                                                                                                                                           reviews_stop_words  \\\n",
       "0  doctor point focus ask right question right go tone accommodate impress                                                                                      \n",
       "1  explain issue body tell solve rather prescribe medicine recommend                                                                                            \n",
       "2  doctor listen patiently explain everything advise medicine get little releif overall experience good doctor thanks doctor                                    \n",
       "3  wonderfull doctor explain clearly perfectly alright 😊                                                                                                        \n",
       "4  even book practo wait patient charge extra top seriously donot understand need book practo would never recommend app anyone 's good go directly save money   \n",
       "\n",
       "                                                                                                    reviews_stop_words_1  \n",
       "0  point focus ask right question right go tone accommodate impress                                                       \n",
       "1  explain issue body tell solve rather prescribe medicine                                                                \n",
       "2  listen patiently explain everything advise medicine get little releif overall thanks                                   \n",
       "3  wonderfull explain clearly perfectly alright 😊                                                                         \n",
       "4  book practo wait charge extra top seriously donot understand need book practo never app anyone go directly save money  "
      ]
     },
     "execution_count": 5,
     "metadata": {},
     "output_type": "execute_result"
    }
   ],
   "source": [
    "data.head()"
   ]
  },
  {
   "cell_type": "code",
   "execution_count": 6,
   "metadata": {
    "ExecuteTime": {
     "end_time": "2020-02-24T10:26:40.258971Z",
     "start_time": "2020-02-24T10:26:40.187066Z"
    },
    "scrolled": true
   },
   "outputs": [],
   "source": [
    "data=data.dropna(how='any') #dropping all missing reviews"
   ]
  },
  {
   "cell_type": "code",
   "execution_count": 7,
   "metadata": {
    "ExecuteTime": {
     "end_time": "2020-02-24T10:26:40.364581Z",
     "start_time": "2020-02-24T10:26:40.258971Z"
    },
    "scrolled": true
   },
   "outputs": [
    {
     "data": {
      "text/plain": [
       "14651"
      ]
     },
     "execution_count": 7,
     "metadata": {},
     "output_type": "execute_result"
    }
   ],
   "source": [
    "len(data)"
   ]
  },
  {
   "cell_type": "markdown",
   "metadata": {},
   "source": [
    "## Distribution of recommendations"
   ]
  },
  {
   "cell_type": "code",
   "execution_count": 8,
   "metadata": {
    "ExecuteTime": {
     "end_time": "2020-02-24T10:26:41.552782Z",
     "start_time": "2020-02-24T10:26:40.368601Z"
    },
    "scrolled": false
   },
   "outputs": [
    {
     "data": {
      "text/plain": [
       "<matplotlib.axes._subplots.AxesSubplot at 0x2301b7ef108>"
      ]
     },
     "execution_count": 8,
     "metadata": {},
     "output_type": "execute_result"
    },
    {
     "data": {
      "image/png": "[encoded data removed]",
      "text/plain": [
       "<Figure size 288x288 with 1 Axes>"
      ]
     },
     "metadata": {
      "needs_background": "light"
     },
     "output_type": "display_data"
    }
   ],
   "source": [
    "dxp.aggplot(agg=\"recommendation\", data=data,figsize=(4, 4)) "
   ]
  },
  {
   "cell_type": "markdown",
   "metadata": {},
   "source": [
    "## Distribution of reviews on location"
   ]
  },
  {
   "cell_type": "code",
   "execution_count": 9,
   "metadata": {
    "ExecuteTime": {
     "end_time": "2020-02-24T10:26:41.724039Z",
     "start_time": "2020-02-24T10:26:41.554019Z"
    },
    "scrolled": true
   },
   "outputs": [
    {
     "data": {
      "text/plain": [
       "<matplotlib.axes._subplots.AxesSubplot at 0x2301bdbd988>"
      ]
     },
     "execution_count": 9,
     "metadata": {},
     "output_type": "execute_result"
    },
    {
     "data": {
      "image/png": "[encoded data removed]",
      "text/plain": [
       "<Figure size 288x288 with 1 Axes>"
      ]
     },
     "metadata": {
      "needs_background": "light"
     },
     "output_type": "display_data"
    }
   ],
   "source": [
    "dxp.aggplot(agg=\"location\", data=data,figsize=(4, 4))"
   ]
  },
  {
   "cell_type": "markdown",
   "metadata": {},
   "source": [
    "## Function to extract sentiment from the reviews"
   ]
  },
  {
   "cell_type": "code",
   "execution_count": 10,
   "metadata": {
    "ExecuteTime": {
     "end_time": "2020-02-24T10:26:41.817972Z",
     "start_time": "2020-02-24T10:26:41.724039Z"
    }
   },
   "outputs": [],
   "source": [
    "from vaderSentiment.vaderSentiment import SentimentIntensityAnalyzer \n",
    "def sentiment_scores(sentence): \n",
    "  \n",
    "    sid_obj = SentimentIntensityAnalyzer() \n",
    "  \n",
    "    sentiment_dict = sid_obj.polarity_scores(str(sentence)) #finding polarity score\n",
    " \n",
    "    if sentiment_dict['compound'] >= 0.05 :     #score is greater than 0.05 then the tweet is positive\n",
    "        return \"Positive\"\n",
    "  \n",
    "    elif sentiment_dict['compound'] <= - 0.05 : #score  less than -0.05 is negative\n",
    "        return \"Negative\"\n",
    "  \n",
    "    else : \n",
    "        return \"Neutral\""
   ]
  },
  {
   "cell_type": "code",
   "execution_count": 11,
   "metadata": {
    "ExecuteTime": {
     "end_time": "2020-02-24T10:31:25.615272Z",
     "start_time": "2020-02-24T10:26:41.817972Z"
    }
   },
   "outputs": [],
   "source": [
    "data['sentiment_vader']=data.apply(lambda row:sentiment_scores(row['reviews_stop_words_1']),axis=1) #calling function"
   ]
  },
  {
   "cell_type": "markdown",
   "metadata": {
    "ExecuteTime": {
     "end_time": "2020-02-06T03:25:31.396864Z",
     "start_time": "2020-02-06T03:25:31.380865Z"
    }
   },
   "source": [
    "## Recommendations vs reviews sentiment"
   ]
  },
  {
   "cell_type": "code",
   "execution_count": 12,
   "metadata": {
    "ExecuteTime": {
     "end_time": "2020-02-24T10:31:25.873769Z",
     "start_time": "2020-02-24T10:31:25.615272Z"
    },
    "scrolled": true
   },
   "outputs": [
    {
     "data": {
      "text/html": [
       "<div>\n",
       "<style scoped>\n",
       "    .dataframe tbody tr th:only-of-type {\n",
       "        vertical-align: middle;\n",
       "    }\n",
       "\n",
       "    .dataframe tbody tr th {\n",
       "        vertical-align: top;\n",
       "    }\n",
       "\n",
       "    .dataframe thead th {\n",
       "        text-align: right;\n",
       "    }\n",
       "</style>\n",
       "<table border=\"1\" class=\"dataframe\">\n",
       "  <thead>\n",
       "    <tr style=\"text-align: right;\">\n",
       "      <th>sentiment</th>\n",
       "      <th>Negative</th>\n",
       "      <th>Positive</th>\n",
       "    </tr>\n",
       "    <tr>\n",
       "      <th>sentiment_vader</th>\n",
       "      <th></th>\n",
       "      <th></th>\n",
       "    </tr>\n",
       "  </thead>\n",
       "  <tbody>\n",
       "    <tr>\n",
       "      <th>Negative</th>\n",
       "      <td>556</td>\n",
       "      <td>836</td>\n",
       "    </tr>\n",
       "    <tr>\n",
       "      <th>Neutral</th>\n",
       "      <td>163</td>\n",
       "      <td>1264</td>\n",
       "    </tr>\n",
       "    <tr>\n",
       "      <th>Positive</th>\n",
       "      <td>454</td>\n",
       "      <td>11378</td>\n",
       "    </tr>\n",
       "  </tbody>\n",
       "</table>\n",
       "</div>"
      ],
      "text/plain": [
       "sentiment        Negative  Positive\n",
       "sentiment_vader                    \n",
       "Negative         556       836     \n",
       "Neutral          163       1264    \n",
       "Positive         454       11378   "
      ]
     },
     "execution_count": 12,
     "metadata": {},
     "output_type": "execute_result"
    }
   ],
   "source": [
    "data.groupby('sentiment_vader')['sentiment'].value_counts().unstack() "
   ]
  },
  {
   "cell_type": "code",
   "execution_count": 13,
   "metadata": {
    "ExecuteTime": {
     "end_time": "2020-02-24T10:31:25.905722Z",
     "start_time": "2020-02-24T10:31:25.877760Z"
    }
   },
   "outputs": [],
   "source": [
    "positive_reviews=data.loc[data['sentiment']=='Positive','reviews_stop_words_1'].tolist()#list of positive reviews\n",
    "negative_reviews=data.loc[data['sentiment']=='Negative','reviews_stop_words_1'].tolist()#list of negative reviews"
   ]
  },
  {
   "cell_type": "markdown",
   "metadata": {},
   "source": [
    "# Recommended Reviews"
   ]
  },
  {
   "cell_type": "markdown",
   "metadata": {},
   "source": [
    "## Function to get LDA topics"
   ]
  },
  {
   "cell_type": "code",
   "execution_count": 14,
   "metadata": {
    "ExecuteTime": {
     "end_time": "2020-02-24T10:31:25.985614Z",
     "start_time": "2020-02-24T10:31:25.905722Z"
    }
   },
   "outputs": [],
   "source": [
    "def topics(List):\n",
    "    count_vectorizer = CountVectorizer(stop_words='english')\n",
    "    count_vectorizer.fit(List)\n",
    "    counts = count_vectorizer.transform(List).transpose()\n",
    "    corpus = matutils.Sparse2Corpus(counts)\n",
    "    id2word = dict((v, k) for k, v in count_vectorizer.vocabulary_.items())\n",
    "    lda = models.LdaMulticore(corpus=corpus, num_topics=10, id2word=id2word, passes=1)\n",
    "    ldamodel = gensim.models.ldamodel.LdaModel(corpus=corpus,id2word=id2word,num_topics=5,passes=10,alpha='auto',per_word_topics=True)\n",
    "    return lda.print_topics()"
   ]
  },
  {
   "cell_type": "markdown",
   "metadata": {},
   "source": [
    "## Most common words"
   ]
  },
  {
   "cell_type": "code",
   "execution_count": 15,
   "metadata": {
    "ExecuteTime": {
     "end_time": "2020-02-24T10:31:27.868747Z",
     "start_time": "2020-02-24T10:31:25.985614Z"
    }
   },
   "outputs": [
    {
     "data": {
      "image/png": "[encoded data removed]",
      "text/plain": [
       "<Figure size 1080x667.491 with 1 Axes>"
      ]
     },
     "metadata": {
      "needs_background": "light"
     },
     "output_type": "display_data"
    }
   ],
   "source": [
    "# Helper function\n",
    "def plot_10_most_common_words(count_data, count_vectorizer):\n",
    "    import matplotlib.pyplot as plt\n",
    "    \n",
    "    sns.set_style('whitegrid')\n",
    "    %matplotlib inline\n",
    "    words = count_vectorizer.get_feature_names()\n",
    "    total_counts = np.zeros(len(words))\n",
    "    for t in count_data:\n",
    "        total_counts+=t.toarray()[0]\n",
    "    \n",
    "    count_dict = (zip(words, total_counts))\n",
    "    count_dict = sorted(count_dict, key=lambda x:x[1], reverse=True)[0:10]\n",
    "    words = [w[0] for w in count_dict]\n",
    "    counts = [w[1] for w in count_dict]\n",
    "    x_pos = np.arange(len(words)) \n",
    "    \n",
    "    plt.figure(2, figsize=(15, 15/1.6180))\n",
    "    plt.subplot(title='10 most common words in positive reviews')\n",
    "    sns.set_context(\"notebook\", font_scale=1.25, rc={\"lines.linewidth\": 2.5})\n",
    "    sns.barplot(x_pos, counts, palette='husl')\n",
    "    plt.xticks(x_pos, words, rotation=90) \n",
    "    plt.xlabel('words')\n",
    "    plt.ylabel('counts')\n",
    "    plt.show()\n",
    "# Initialise the count vectorizer with the English stop words\n",
    "count_vectorizer = CountVectorizer(stop_words='english')\n",
    "# Fit and transform the processed titles\n",
    "count_data = count_vectorizer.fit_transform(positive_reviews)\n",
    "# Visualise the 10 most common words\n",
    "plot_10_most_common_words(count_data, count_vectorizer)"
   ]
  },
  {
   "cell_type": "code",
   "execution_count": 16,
   "metadata": {
    "ExecuteTime": {
     "end_time": "2020-02-24T10:31:57.480635Z",
     "start_time": "2020-02-24T10:31:27.872739Z"
    }
   },
   "outputs": [
    {
     "name": "stdout",
     "output_type": "stream",
     "text": [
      "\u001b[32mTopics found via LDA:\u001b[0m\n",
      "\n",
      "Topic #0:\n",
      "medicine test visit day donot prescribe pain unnecessary fever medication time listen suffer suggest ask feel tell thank treatment year relief consult diagnose cough treat start month hospital check advise\n",
      "\n",
      "Topic #1:\n",
      "explain listen friendly time treatment issue understand medicine health patiently satisfy diagnosis highly make care visit great prescribe medication suggest carefully polite way family feel excellent nice advice professional cause\n",
      "\n",
      "Topic #2:\n",
      "diabetes control sugar treatment level explain blood diet diabetic report mother medication approach father year happy help suggest lifestyle change result come issue normal meet consult high thyroid family month\n",
      "\n",
      "Topic #3:\n",
      "treatment thank medicine treat result friendly thanks really happy way feel nice laxman god listen sir therapy best person disease great excellent family life bless nap jonwal health cure explain\n",
      "\n",
      "Topic #4:\n",
      "treatment clinic time visit staff nice wait friendly hospital appointment satisfy medicine really consultation happy come best fee monga service day helpful great thank work excellent family thanks help year\n",
      "\n",
      "\n",
      "\u001b[32mTopics found via nmf_Z:\u001b[0m\n",
      "\n",
      "Topic #0:\n",
      "medicine prescribe test listen donot unnecessary suggest day ask patiently pain carefully understand require fever advise check nice report work need say really relief medication diet blood write cause tell\n",
      "\n",
      "Topic #1:\n",
      "treatment satisfy happy result thank year best excellent thanks staff diagnosis diabetes great father really hospital start nice provide disease advise laxman highly consult effective approach suffer family proper come\n",
      "\n",
      "Topic #2:\n",
      "time wait appointment understand spend long donot listen meet consultation need clinic really hour make great care diagnosis come family check proper highly ample know medical doc right professional 30\n",
      "\n",
      "Topic #3:\n",
      "explain friendly issue listen health patiently understand way medication nice cause clearly polite make highly carefully diagnosis care treat thing patience satisfy comfortable great really help disease feel nature definitely\n",
      "\n",
      "Topic #4:\n",
      "visit day clinic feel thank treat year hospital make family really test care medication come month meet donot fever suggest pain consult health issue best help suffer way thanks happy\n",
      "\n",
      "\n",
      "\u001b[32mTopics found via lsi_Z:\u001b[0m\n",
      "\n",
      "Topic #0:\n",
      "treatment medicine time visit explain listen friendly issue prescribe test day understand clinic health donot feel suggest really thank medication patiently happy make satisfy care treat family best year great\n",
      "\n",
      "Topic #1:\n",
      "medicine prescribe listen time test donot unnecessary patiently ask medication visit issue explain day suggest carefully understand need wait appointment check health tell report thing fever say cause meet symptom\n",
      "\n",
      "Topic #2:\n",
      "medicine treatment prescribe day test pain suggest unnecessary result laxman donot fever month relief nap thanks jonwal blood therapy ask advise suffer high sugar control body use level diabetes say\n",
      "\n",
      "Topic #3:\n",
      "visit time day clinic wait hospital appointment come month year pain feel suffer fever donot meet thank start result consultation father life say family high know wife consult long thanks\n",
      "\n",
      "Topic #4:\n",
      "visit issue health clinic friendly treat thank feel medication explain way day family make care hospital year month mother consult friend suggest help fever sir diabetes patiently best staff thanks\n"
     ]
    }
   ],
   "source": [
    "import warnings\n",
    "warnings.simplefilter(\"ignore\", DeprecationWarning)\n",
    "# Load the LDA model from sk-learn\n",
    "from sklearn.decomposition import LatentDirichletAllocation as LDA\n",
    "from sklearn.decomposition import TruncatedSVD\n",
    "# Helper function\n",
    "def print_topics(model, count_vectorizer, n_top_words):\n",
    "    words = count_vectorizer.get_feature_names()\n",
    "    for topic_idx, topic in enumerate(model.components_):\n",
    "        print(\"\\nTopic #%d:\" % topic_idx)\n",
    "        print(\" \".join([words[i]\n",
    "                        for i in topic.argsort()[:-n_top_words - 1:-1]]))\n",
    "        \n",
    "# Tweak the two parameters below\n",
    "number_topics = 5\n",
    "number_words = 30\n",
    "# Create and fit the LDA model\n",
    "lda = LDA(n_components=number_topics, n_jobs=-1)\n",
    "lda.fit(count_data)\n",
    "# Print the topics found by the LDA model\n",
    "print(colored(\"Topics found via LDA:\",'green'))\n",
    "print_topics(lda, count_vectorizer, number_words)\n",
    "\n",
    "# Build a Non-Negative Matrix Factorization Model\n",
    "nmf_model = NMF(n_components=number_topics)\n",
    "nmf_model.fit(count_data)\n",
    "print('\\n')\n",
    "print (colored(\"Topics found via nmf_Z:\",'green'))\n",
    "print_topics(nmf_model, count_vectorizer, number_words)\n",
    "\n",
    "print('\\n')\n",
    "print (colored(\"Topics found via lsi_Z:\",'green'))\n",
    "# Build a Latent Semantic Indexing Model\n",
    "lsi_model = TruncatedSVD(n_components=number_topics)\n",
    "lsi_Z = lsi_model.fit(count_data)\n",
    "print_topics(lsi_Z, count_vectorizer, number_words)\n"
   ]
  },
  {
   "cell_type": "code",
   "execution_count": 17,
   "metadata": {
    "ExecuteTime": {
     "end_time": "2020-02-24T10:33:12.164969Z",
     "start_time": "2020-02-24T10:31:57.480635Z"
    },
    "scrolled": false
   },
   "outputs": [
    {
     "data": {
      "text/plain": [
       "[(0,\n",
       "  '0.021*\"medicine\" + 0.019*\"treatment\" + 0.019*\"listen\" + 0.018*\"time\" + 0.016*\"prescribe\" + 0.012*\"explain\" + 0.011*\"day\" + 0.010*\"medication\" + 0.009*\"friendly\" + 0.008*\"visit\"'),\n",
       " (1,\n",
       "  '0.023*\"medicine\" + 0.022*\"issue\" + 0.020*\"listen\" + 0.013*\"health\" + 0.013*\"explain\" + 0.013*\"treatment\" + 0.012*\"friendly\" + 0.011*\"visit\" + 0.010*\"time\" + 0.010*\"patiently\"'),\n",
       " (2,\n",
       "  '0.032*\"treatment\" + 0.027*\"medicine\" + 0.015*\"listen\" + 0.015*\"visit\" + 0.014*\"explain\" + 0.012*\"time\" + 0.009*\"happy\" + 0.008*\"patiently\" + 0.008*\"friendly\" + 0.008*\"day\"'),\n",
       " (3,\n",
       "  '0.025*\"treatment\" + 0.017*\"issue\" + 0.013*\"clinic\" + 0.012*\"really\" + 0.009*\"explain\" + 0.009*\"great\" + 0.009*\"treat\" + 0.008*\"health\" + 0.008*\"friendly\" + 0.008*\"advice\"'),\n",
       " (4,\n",
       "  '0.013*\"treatment\" + 0.011*\"excellent\" + 0.011*\"explain\" + 0.011*\"thank\" + 0.010*\"make\" + 0.009*\"friendly\" + 0.009*\"treat\" + 0.009*\"visit\" + 0.008*\"family\" + 0.008*\"feel\"'),\n",
       " (5,\n",
       "  '0.032*\"time\" + 0.023*\"friendly\" + 0.020*\"explain\" + 0.018*\"treatment\" + 0.016*\"listen\" + 0.013*\"understand\" + 0.011*\"medicine\" + 0.009*\"visit\" + 0.009*\"feel\" + 0.008*\"suggest\"'),\n",
       " (6,\n",
       "  '0.037*\"treatment\" + 0.022*\"friendly\" + 0.020*\"explain\" + 0.017*\"satisfy\" + 0.017*\"visit\" + 0.015*\"time\" + 0.012*\"medicine\" + 0.009*\"listen\" + 0.008*\"issue\" + 0.007*\"way\"'),\n",
       " (7,\n",
       "  '0.017*\"visit\" + 0.017*\"explain\" + 0.015*\"test\" + 0.011*\"medicine\" + 0.011*\"listen\" + 0.011*\"friendly\" + 0.010*\"suggest\" + 0.009*\"clinic\" + 0.009*\"nice\" + 0.008*\"really\"'),\n",
       " (8,\n",
       "  '0.018*\"time\" + 0.016*\"test\" + 0.009*\"clinic\" + 0.009*\"friendly\" + 0.008*\"nice\" + 0.008*\"visit\" + 0.008*\"great\" + 0.008*\"donot\" + 0.007*\"treatment\" + 0.007*\"meet\"'),\n",
       " (9,\n",
       "  '0.016*\"treatment\" + 0.012*\"friendly\" + 0.012*\"medicine\" + 0.011*\"prescribe\" + 0.010*\"diagnosis\" + 0.009*\"pain\" + 0.009*\"excellent\" + 0.009*\"listen\" + 0.008*\"family\" + 0.008*\"year\"')]"
      ]
     },
     "execution_count": 17,
     "metadata": {},
     "output_type": "execute_result"
    }
   ],
   "source": [
    "topics(positive_reviews) #lda for recommended reviews"
   ]
  },
  {
   "cell_type": "markdown",
   "metadata": {
    "ExecuteTime": {
     "end_time": "2020-02-24T10:02:36.265439Z",
     "start_time": "2020-02-24T10:02:36.253453Z"
    }
   },
   "source": [
    "## K-Means clustering for recommended reviews"
   ]
  },
  {
   "cell_type": "code",
   "execution_count": 18,
   "metadata": {
    "ExecuteTime": {
     "end_time": "2020-02-24T10:33:19.357839Z",
     "start_time": "2020-02-24T10:33:12.164969Z"
    },
    "scrolled": false
   },
   "outputs": [
    {
     "name": "stdout",
     "output_type": "stream",
     "text": [
      "Cluster 0\n",
      "\n",
      "medicine\n",
      "prescribe\n",
      "test\n",
      "prescribe medicine\n",
      "unnecessary\n",
      "\n",
      "\n",
      "Cluster 1\n",
      "\n",
      "listen\n",
      "patiently\n",
      "carefully\n",
      "listen patiently\n",
      "listen carefully\n",
      "\n",
      "\n",
      "Cluster 2\n",
      "\n",
      "explain\n",
      "friendly\n",
      "issue\n",
      "time\n",
      "friendly explain\n",
      "\n",
      "\n",
      "Cluster 3\n",
      "\n",
      "time\n",
      "friendly\n",
      "visit\n",
      "understand\n",
      "treat\n",
      "\n",
      "\n",
      "Cluster 4\n",
      "\n",
      "treatment\n",
      "satisfy\n",
      "satisfy treatment\n",
      "happy\n",
      "friendly\n",
      "\n",
      "\n"
     ]
    }
   ],
   "source": [
    "tf_idf = TfidfVectorizer(stop_words='english', ngram_range=(1, 4), min_df=25, max_df=0.98)\n",
    "tf_idf_vecs = tf_idf.fit_transform(positive_reviews)\n",
    "\n",
    "lsa = TruncatedSVD(100, algorithm='arpack')\n",
    "lsa_vecs = lsa.fit_transform(tf_idf_vecs)\n",
    "lsa_vecs = Normalizer(copy=False).fit_transform(lsa_vecs)\n",
    "feature_names = tf_idf.get_feature_names()\n",
    "lsa_df = pd.DataFrame(lsa.components_.round(5), columns=feature_names)\n",
    "\n",
    "km = KMeans(n_clusters=5, init='k-means++')\n",
    "km.fit(lsa_vecs)\n",
    "clusters = km.predict(lsa_vecs)\n",
    "\n",
    "km.cluster_centers_.shape\n",
    "\n",
    "original_space_centroids = lsa.inverse_transform(km.cluster_centers_)\n",
    "original_space_centroids.shape\n",
    "\n",
    "order_centroids = original_space_centroids.argsort()[:, ::-1]\n",
    "order_centroids.shape\n",
    "\n",
    "for cluster in range(5):\n",
    "    features = order_centroids[cluster,0:5]\n",
    "    print('Cluster {}\\n'.format(cluster))\n",
    "    for feature in features:\n",
    "        print(feature_names[feature])\n",
    "    print('\\n')"
   ]
  },
  {
   "cell_type": "markdown",
   "metadata": {},
   "source": [
    "## Not recommended Reviews"
   ]
  },
  {
   "cell_type": "code",
   "execution_count": 19,
   "metadata": {
    "ExecuteTime": {
     "end_time": "2020-02-24T10:33:19.709370Z",
     "start_time": "2020-02-24T10:33:19.357839Z"
    }
   },
   "outputs": [
    {
     "data": {
      "image/png": "[encoded data removed]",
      "text/plain": [
       "<Figure size 1080x667.491 with 1 Axes>"
      ]
     },
     "metadata": {
      "needs_background": "light"
     },
     "output_type": "display_data"
    }
   ],
   "source": [
    "count_vectorizer = CountVectorizer(stop_words='english')\n",
    "# Fit and transform the processed titles\n",
    "count_data = count_vectorizer.fit_transform(negative_reviews)\n",
    "# Visualise the 10 most common words\n",
    "plot_10_most_common_words(count_data, count_vectorizer)"
   ]
  },
  {
   "cell_type": "code",
   "execution_count": 20,
   "metadata": {
    "ExecuteTime": {
     "end_time": "2020-02-24T10:33:23.993509Z",
     "start_time": "2020-02-24T10:33:19.709370Z"
    }
   },
   "outputs": [
    {
     "name": "stdout",
     "output_type": "stream",
     "text": [
      "\u001b[32mTopics found via LDA:\u001b[0m\n",
      "\n",
      "Topic #0:\n",
      "time wait appointment donot visit ask clinic hour come tell hospital medicine book say consultation charge treatment test reach listen min practo minute 30 bad pay report staff 10 make\n",
      "\n",
      "Topic #1:\n",
      "charge visit ask time day donot consultation hospital rs tell fee say test report treatment blood admit need check pay available come bad high want health talk staff consult question\n",
      "\n",
      "Topic #2:\n",
      "medicine donot say prescribe visit listen ask day test report suggest tell consultation money clinic hospital explain time symptom rs busy charge bad infection urine consult make cough know need\n",
      "\n",
      "Topic #3:\n",
      "donot visit medicine explain issue say time ask day bad tell prescribe listen fee hospital consultation rude willnot doc come consult fever pain money question wife doctornot people treatment understand\n",
      "\n",
      "Topic #4:\n",
      "test fever day donot hospital ask report medicine prescribe blood check say tell visit time suggest pain come lab admit clinic treatment dengue typhoid money infection write consult high normal\n",
      "\n",
      "\n",
      "\u001b[32mTopics found via nmf_Z:\u001b[0m\n",
      "\n",
      "Topic #0:\n",
      "time wait appointment donot hour come tell book clinic reach 30 minute practo 10 say meet receptionist money available min leave visit make bad long treatment turn pm till listen\n",
      "\n",
      "Topic #1:\n",
      "day donot say check ajit ask nurse grandmother tell come hospital admit shetty sonography diet icu water condition normal sleep 2019 couldnot inform washroom kidney feb urinate stool start feel\n",
      "\n",
      "Topic #2:\n",
      "test report fever tell blood ask suggest prescribe typhoid lab day dengue donot pain check say write result hospital urine cost explain culture make pay antibiotic consult mother money normal\n",
      "\n",
      "Topic #3:\n",
      "hospital ask staff right prick say day consultation floor appointment pay come hand change room place dad try ward husband inform grind boy report guy leave colonoscopy 11am stay barve\n",
      "\n",
      "Topic #4:\n",
      "visit medicine charge donot day clinic consultation fee prescribe ask rs fever pay tell say time consult treatment high bad write wife explain follow prescription issue mention tablet listen injection\n",
      "\n",
      "\n",
      "\u001b[32mTopics found via lsi_Z:\u001b[0m\n",
      "\n",
      "Topic #0:\n",
      "donot ask day say time hospital tell visit test come medicine check appointment report wait staff clinic charge nurse fever blood pay admit consultation hour treatment ajit grandmother prescribe suggest\n",
      "\n",
      "Topic #1:\n",
      "day say ajit grandmother nurse check shetty donot admit sonography icu diet water sleep feb urinate washroom 2019 kidney condition stool normal discharge couldnot sleepiness hemant suvidha ignore mouth present\n",
      "\n",
      "Topic #2:\n",
      "time appointment wait staff come hour hospital prick right receptionist floor hand turn nurse book leave ward boy grind try place husband reach room 10 30 ask guy colonoscopy long\n",
      "\n",
      "Topic #3:\n",
      "hospital test ask report staff right prick blood floor dad pay suggest room husband ward grind boy change inform family guy hand day mom colonoscopy 11am cot barve anaesthesia mrd\n",
      "\n",
      "Topic #4:\n",
      "visit day hospital charge consultation fee medicine rs donor change pay admit staff platelet dad follow family night fortis arrange talk request high count week 1000 mention inform 100 treatment\n"
     ]
    }
   ],
   "source": [
    "# Tweak the two parameters below\n",
    "number_topics = 5\n",
    "number_words = 30\n",
    "# Create and fit the LDA model\n",
    "lda = LDA(n_components=number_topics, n_jobs=-1)\n",
    "lda.fit(count_data)\n",
    "# Print the topics found by the LDA model\n",
    "print(colored(\"Topics found via LDA:\",'green'))\n",
    "print_topics(lda, count_vectorizer, number_words)\n",
    "\n",
    "# Build a Non-Negative Matrix Factorization Model\n",
    "nmf_model = NMF(n_components=number_topics)\n",
    "nmf_model.fit(count_data)\n",
    "print('\\n')\n",
    "print (colored(\"Topics found via nmf_Z:\",'green'))\n",
    "print_topics(nmf_model, count_vectorizer, number_words)\n",
    "\n",
    "print('\\n')\n",
    "print (colored(\"Topics found via lsi_Z:\",'green'))\n",
    "# Build a Latent Semantic Indexing Model\n",
    "lsi_model = TruncatedSVD(n_components=number_topics)\n",
    "lsi_Z = lsi_model.fit(count_data)\n",
    "print_topics(lsi_Z, count_vectorizer, number_words)\n"
   ]
  },
  {
   "cell_type": "markdown",
   "metadata": {},
   "source": [
    "## K-Means Clustering for not recommended reviews"
   ]
  },
  {
   "cell_type": "code",
   "execution_count": 21,
   "metadata": {
    "ExecuteTime": {
     "end_time": "2020-02-24T10:33:24.756270Z",
     "start_time": "2020-02-24T10:33:23.993509Z"
    }
   },
   "outputs": [
    {
     "name": "stdout",
     "output_type": "stream",
     "text": [
      "Cluster 0\n",
      "\n",
      "charge\n",
      "fee\n",
      "consultation\n",
      "visit\n",
      "rs\n",
      "consultation fee\n",
      "high\n",
      "time\n",
      "mention\n",
      "practo\n",
      "\n",
      "\n",
      "Cluster 1\n",
      "\n",
      "wait\n",
      "appointment\n",
      "time\n",
      "hour\n",
      "come\n",
      "book\n",
      "reach\n",
      "wait hour\n",
      "clinic\n",
      "donot\n",
      "\n",
      "\n",
      "Cluster 2\n",
      "\n",
      "medicine\n",
      "prescribe\n",
      "donot\n",
      "write\n",
      "prescribe medicine\n",
      "day\n",
      "explain\n",
      "visit\n",
      "bad\n",
      "clinic\n",
      "\n",
      "\n",
      "Cluster 3\n",
      "\n",
      "test\n",
      "report\n",
      "blood\n",
      "fever\n",
      "blood test\n",
      "suggest\n",
      "ask\n",
      "tell\n",
      "visit\n",
      "day\n",
      "\n",
      "\n",
      "Cluster 4\n",
      "\n",
      "donot\n",
      "visit\n",
      "time\n",
      "say\n",
      "listen\n",
      "ask\n",
      "treatment\n",
      "explain\n",
      "bad\n",
      "day\n",
      "\n",
      "\n"
     ]
    }
   ],
   "source": [
    "tf_idf = TfidfVectorizer(stop_words='english', ngram_range=(1, 4), min_df=25, max_df=0.98)\n",
    "tf_idf_vecs = tf_idf.fit_transform(negative_reviews)\n",
    "\n",
    "lsa = TruncatedSVD(100, algorithm='arpack')\n",
    "lsa_vecs = lsa.fit_transform(tf_idf_vecs)\n",
    "lsa_vecs = Normalizer(copy=False).fit_transform(lsa_vecs)\n",
    "feature_names = tf_idf.get_feature_names()\n",
    "lsa_df = pd.DataFrame(lsa.components_.round(5), columns=feature_names)\n",
    "\n",
    "km = KMeans(n_clusters=5, init='k-means++')\n",
    "km.fit(lsa_vecs)\n",
    "clusters = km.predict(lsa_vecs)\n",
    "\n",
    "km.cluster_centers_.shape\n",
    "\n",
    "original_space_centroids = lsa.inverse_transform(km.cluster_centers_)\n",
    "original_space_centroids.shape\n",
    "\n",
    "order_centroids = original_space_centroids.argsort()[:, ::-1]\n",
    "order_centroids.shape\n",
    "\n",
    "for cluster in range(5):\n",
    "    features = order_centroids[cluster,0:10]\n",
    "    print('Cluster {}\\n'.format(cluster))\n",
    "    for feature in features:\n",
    "        print(feature_names[feature])\n",
    "    print('\\n')"
   ]
  },
  {
   "cell_type": "code",
   "execution_count": 22,
   "metadata": {
    "ExecuteTime": {
     "end_time": "2020-02-24T10:33:24.772249Z",
     "start_time": "2020-02-24T10:33:24.756270Z"
    }
   },
   "outputs": [],
   "source": [
    "#recommended negative reviews\n",
    "List_=data.loc[(data['sentiment']=='Positive')&(data['sentiment_vader']=='Negative'),'reviews_stop_words_1'].tolist()"
   ]
  },
  {
   "cell_type": "code",
   "execution_count": 23,
   "metadata": {
    "ExecuteTime": {
     "end_time": "2020-02-24T10:33:24.916056Z",
     "start_time": "2020-02-24T10:33:24.776244Z"
    }
   },
   "outputs": [],
   "source": [
    "#not recommended positive reviews\n",
    "List=data.loc[(data['sentiment']=='Negative')&(data['sentiment_vader']=='Positive'),'reviews_stop_words_1'].tolist() "
   ]
  },
  {
   "cell_type": "code",
   "execution_count": 24,
   "metadata": {
    "ExecuteTime": {
     "end_time": "2020-02-24T10:33:24.991954Z",
     "start_time": "2020-02-24T10:33:24.920052Z"
    }
   },
   "outputs": [
    {
     "data": {
      "text/plain": [
       "454"
      ]
     },
     "execution_count": 24,
     "metadata": {},
     "output_type": "execute_result"
    }
   ],
   "source": [
    "len(List)"
   ]
  },
  {
   "cell_type": "markdown",
   "metadata": {
    "ExecuteTime": {
     "end_time": "2020-02-13T03:35:16.138325Z",
     "start_time": "2020-02-13T03:35:16.126341Z"
    }
   },
   "source": [
    "## Not recommended Positive reviews"
   ]
  },
  {
   "cell_type": "code",
   "execution_count": 25,
   "metadata": {
    "ExecuteTime": {
     "end_time": "2020-02-24T10:33:25.573960Z",
     "start_time": "2020-02-24T10:33:24.991954Z"
    },
    "scrolled": false
   },
   "outputs": [
    {
     "name": "stdout",
     "output_type": "stream",
     "text": [
      "Cluster 0\n",
      "\n",
      "time\n",
      "wait\n",
      "appointment\n",
      "donot\n",
      "come\n",
      "listen\n",
      "visit\n",
      "hour\n",
      "ask\n",
      "hospital\n",
      "\n",
      "\n",
      "Cluster 1\n",
      "\n",
      "donot\n",
      "time\n",
      "visit\n",
      "test\n",
      "medicine\n",
      "ask\n",
      "wait\n",
      "say\n",
      "tell\n",
      "day\n",
      "\n",
      "\n",
      "Cluster 2\n",
      "\n",
      "test\n",
      "medicine\n",
      "visit\n",
      "donot\n",
      "report\n",
      "day\n",
      "prescribe\n",
      "ask\n",
      "tell\n",
      "fever\n",
      "\n",
      "\n"
     ]
    }
   ],
   "source": [
    "tf_idf = TfidfVectorizer(stop_words='english', ngram_range=(1, 4), min_df=25, max_df=0.98)\n",
    "tf_idf_vecs = tf_idf.fit_transform(List)\n",
    "\n",
    "lsa = TruncatedSVD()\n",
    "lsa_vecs = lsa.fit_transform(tf_idf_vecs)\n",
    "lsa_vecs = Normalizer(copy=False).fit_transform(lsa_vecs)\n",
    "feature_names = tf_idf.get_feature_names()\n",
    "lsa_df = pd.DataFrame(lsa.components_.round(5), columns=feature_names)\n",
    "\n",
    "km = KMeans(n_clusters=3, init='k-means++')\n",
    "km.fit(lsa_vecs)\n",
    "clusters = km.predict(lsa_vecs)\n",
    "\n",
    "km.cluster_centers_.shape\n",
    "\n",
    "original_space_centroids = lsa.inverse_transform(km.cluster_centers_)\n",
    "original_space_centroids.shape\n",
    "\n",
    "order_centroids = original_space_centroids.argsort()[:, ::-1]\n",
    "order_centroids.shape\n",
    "\n",
    "\n",
    "\n",
    "\n",
    "\n",
    "for cluster in range(3):\n",
    "    features = order_centroids[cluster,0:10]\n",
    "    print('Cluster {}\\n'.format(cluster))\n",
    "    for feature in features:\n",
    "        print(feature_names[feature])\n",
    "    print('\\n')"
   ]
  },
  {
   "cell_type": "code",
   "execution_count": 26,
   "metadata": {
    "ExecuteTime": {
     "end_time": "2020-02-24T10:33:25.585945Z",
     "start_time": "2020-02-24T10:33:25.573960Z"
    },
    "scrolled": true
   },
   "outputs": [
    {
     "data": {
      "text/html": [
       "<div>\n",
       "<style scoped>\n",
       "    .dataframe tbody tr th:only-of-type {\n",
       "        vertical-align: middle;\n",
       "    }\n",
       "\n",
       "    .dataframe tbody tr th {\n",
       "        vertical-align: top;\n",
       "    }\n",
       "\n",
       "    .dataframe thead th {\n",
       "        text-align: right;\n",
       "    }\n",
       "</style>\n",
       "<table border=\"1\" class=\"dataframe\">\n",
       "  <thead>\n",
       "    <tr style=\"text-align: right;\">\n",
       "      <th></th>\n",
       "      <th>sqdist</th>\n",
       "      <th>label</th>\n",
       "      <th>reviews</th>\n",
       "    </tr>\n",
       "  </thead>\n",
       "  <tbody>\n",
       "    <tr>\n",
       "      <th>0</th>\n",
       "      <td>1.75</td>\n",
       "      <td>0</td>\n",
       "      <td>book practo wait charge extra top seriously donot understand need book practo never app anyone go directly save money</td>\n",
       "    </tr>\n",
       "    <tr>\n",
       "      <th>1</th>\n",
       "      <td>1.70</td>\n",
       "      <td>2</td>\n",
       "      <td>many medicine prescribe friendly</td>\n",
       "    </tr>\n",
       "    <tr>\n",
       "      <th>2</th>\n",
       "      <td>0.66</td>\n",
       "      <td>1</td>\n",
       "      <td>visited clinic wife fever vomit uma talk nicely treatment pathetic donot respond call treatment forgot mention one man army nurse front office staff see another next day sign improvement donot anyone</td>\n",
       "    </tr>\n",
       "    <tr>\n",
       "      <th>3</th>\n",
       "      <td>2.03</td>\n",
       "      <td>0</td>\n",
       "      <td>well mix response staff confuse overall response worry bill payment responsive however limit requirement seem ok doesnot probe much</td>\n",
       "    </tr>\n",
       "    <tr>\n",
       "      <th>4</th>\n",
       "      <td>1.90</td>\n",
       "      <td>0</td>\n",
       "      <td>general hygiene upkeep clinic improve make wait 30 minute confirm time phone fine bite awful staff support clinic avoid</td>\n",
       "    </tr>\n",
       "  </tbody>\n",
       "</table>\n",
       "</div>"
      ],
      "text/plain": [
       "   sqdist  label  \\\n",
       "0  1.75    0       \n",
       "1  1.70    2       \n",
       "2  0.66    1       \n",
       "3  2.03    0       \n",
       "4  1.90    0       \n",
       "\n",
       "                                                                                                                                                                                                   reviews  \n",
       "0  book practo wait charge extra top seriously donot understand need book practo never app anyone go directly save money                                                                                    \n",
       "1  many medicine prescribe friendly                                                                                                                                                                         \n",
       "2  visited clinic wife fever vomit uma talk nicely treatment pathetic donot respond call treatment forgot mention one man army nurse front office staff see another next day sign improvement donot anyone  \n",
       "3  well mix response staff confuse overall response worry bill payment responsive however limit requirement seem ok doesnot probe much                                                                      \n",
       "4  general hygiene upkeep clinic improve make wait 30 minute confirm time phone fine bite awful staff support clinic avoid                                                                                  "
      ]
     },
     "execution_count": 26,
     "metadata": {},
     "output_type": "execute_result"
    }
   ],
   "source": [
    "X_dist = km.transform(lsa_vecs)**2\n",
    "\n",
    "# do something useful...\n",
    "import pandas as pd\n",
    "df = pd.DataFrame(X_dist.sum(axis=1).round(2), columns=['sqdist'])\n",
    "df['label'] = km.labels_\n",
    "\n",
    "\n",
    "df['reviews']=List\n",
    "df.head()"
   ]
  },
  {
   "cell_type": "markdown",
   "metadata": {
    "ExecuteTime": {
     "end_time": "2020-02-24T10:08:27.397561Z",
     "start_time": "2020-02-24T10:08:27.389569Z"
    }
   },
   "source": [
    "## Function to create Bigrams"
   ]
  },
  {
   "cell_type": "code",
   "execution_count": 27,
   "metadata": {
    "ExecuteTime": {
     "end_time": "2020-02-24T10:33:26.992640Z",
     "start_time": "2020-02-24T10:33:25.585945Z"
    }
   },
   "outputs": [
    {
     "data": {
      "image/png": "[encoded data removed]",
      "text/plain": [
       "<Figure size 720x720 with 2 Axes>"
      ]
     },
     "metadata": {
      "needs_background": "light"
     },
     "output_type": "display_data"
    }
   ],
   "source": [
    "def commonwords(review,top):\n",
    "    reviews=\" \".join(review)\n",
    "    tokenised_reviews=reviews.split(\" \")\n",
    "    \n",
    "    \n",
    "    freq_counter=Counter(tokenised_reviews) #counts the occurance\n",
    "    return freq_counter.most_common(top)\n",
    "\n",
    "\n",
    "recommended_negative_sentiment=commonwords(List_,30) #top 30 positive reviews\n",
    "Not_recommended_positive_sentiment=commonwords(List,30) #top 30 negative reviews\n",
    "\n",
    "def plotCommonWords(reviews,top,title,color=\"blue\",axis=None):\n",
    "    top_words=commonwords(reviews,top=top)\n",
    "    data=pd.DataFrame()\n",
    "    data['words']=[val[0] for val in top_words]\n",
    "    data['freq']=[val[1] for val in top_words]\n",
    "    if axis!=None:\n",
    "        sns.barplot(y='words',x='freq',data=data,color=color,ax=axis).set_title(title+\" top \"+str(top))\n",
    "    else:\n",
    "        sns.barplot(y='words',x='freq',data=data,color=color).set_title(title+\" top \"+str(top))\n",
    "\n",
    "def generateNGram(text,n=3):  #bigram\n",
    "    tokens=text.split(\" \")\n",
    "    ngrams = zip(*[tokens[i:] for i in range(n)])\n",
    "    return [\"_\".join(ngram) for ngram in ngrams] #joins two consecutive words\n",
    "\n",
    "positive_tweets_bigrams=[\" \".join(generateNGram(review)) for review in List_] \n",
    "negative_tweets_bigrams=[\" \".join(generateNGram(review)) for review in List] \n",
    "\n",
    "\n",
    "rcParams['figure.figsize'] = 10,10\n",
    "fig,ax=plt.subplots(1,2)\n",
    "fig.subplots_adjust(wspace=1) #Adjusts the space between the two plots\n",
    "plotCommonWords(positive_tweets_bigrams,20,\"Recommended negative sentiment\",axis=ax[0])\n",
    "\n",
    "plotCommonWords(negative_tweets_bigrams,20,\"Not recommended positive sentiment\",color=\"red\",axis=ax[1])"
   ]
  },
  {
   "cell_type": "code",
   "execution_count": 28,
   "metadata": {
    "ExecuteTime": {
     "end_time": "2020-02-24T10:33:27.004625Z",
     "start_time": "2020-02-24T10:33:26.996636Z"
    }
   },
   "outputs": [],
   "source": [
    "documents=data['reviews_stop_words_1'] #All reviews"
   ]
  },
  {
   "cell_type": "markdown",
   "metadata": {
    "ExecuteTime": {
     "end_time": "2020-02-24T10:09:30.644643Z",
     "start_time": "2020-02-24T10:09:30.636648Z"
    }
   },
   "source": [
    "# Analysis using all the reviews"
   ]
  },
  {
   "cell_type": "markdown",
   "metadata": {},
   "source": [
    "## LDA topic Modelling"
   ]
  },
  {
   "cell_type": "code",
   "execution_count": 29,
   "metadata": {
    "ExecuteTime": {
     "end_time": "2020-02-24T10:35:31.042822Z",
     "start_time": "2020-02-24T10:33:27.004625Z"
    },
    "scrolled": true
   },
   "outputs": [
    {
     "name": "stdout",
     "output_type": "stream",
     "text": [
      "(0, '0.020*\"medicine\" + 0.017*\"listen\" + 0.015*\"prescribe\" + 0.013*\"donot\" + 0.013*\"test\" + 0.013*\"time\" + 0.011*\"friendly\" + 0.010*\"explain\" + 0.009*\"visit\" + 0.009*\"diagnosis\"')\n",
      "(1, '0.018*\"give\" + 0.018*\"medicine\" + 0.016*\"take\" + 0.015*\"get\" + 0.014*\"explain\" + 0.013*\"day\" + 0.013*\"issue\" + 0.012*\"treatment\" + 0.011*\"time\" + 0.011*\"well\"')\n",
      "(2, '0.022*\"treatment\" + 0.014*\"visit\" + 0.011*\"thank\" + 0.011*\"family\" + 0.011*\"best\" + 0.011*\"treat\" + 0.011*\"n\" + 0.010*\"always\" + 0.009*\"give\" + 0.009*\"well\"')\n",
      "(3, '0.043*\"treatment\" + 0.024*\"give\" + 0.019*\"friendly\" + 0.019*\"well\" + 0.017*\"time\" + 0.016*\"explain\" + 0.015*\"nice\" + 0.014*\"satisfy\" + 0.014*\"understand\" + 0.014*\"also\"')\n",
      "(4, '0.019*\"time\" + 0.015*\"visit\" + 0.013*\"go\" + 0.012*\"come\" + 0.011*\"hospital\" + 0.011*\"ask\" + 0.011*\"appointment\" + 0.010*\"day\" + 0.010*\"wait\" + 0.010*\"donot\"')\n"
     ]
    }
   ],
   "source": [
    "stoplist = set('for a of the and to in'.split())\n",
    "texts = [[word for word in document.lower().split() if word not in stoplist]\n",
    "         for document in documents]\n",
    "\n",
    "# remove words that appear only once\n",
    "all_tokens = sum(texts, [])\n",
    "tokens_once = set(word for word in set(all_tokens) if all_tokens.count(word) == 1)\n",
    "texts = [[word for word in text if word not in tokens_once] for text in texts]\n",
    "\n",
    "# Create Dictionary.\n",
    "id2word = corpora.Dictionary(texts)\n",
    "# Creates the Bag of Word corpus.\n",
    "mm = [id2word.doc2bow(text) for text in texts]\n",
    "\n",
    "# Trains the LDA models.\n",
    "lda = models.ldamodel.LdaModel(corpus=mm, id2word=id2word, num_topics=5)\n",
    "\n",
    "# Prints the topics.\n",
    "for top in lda.print_topics():\n",
    "    print(top)\n",
    "print\n",
    "\n",
    "# Assigns the topics to the documents in corpus\n",
    "lda_corpus = lda[mm]"
   ]
  },
  {
   "cell_type": "code",
   "execution_count": 30,
   "metadata": {
    "ExecuteTime": {
     "end_time": "2020-02-24T10:35:40.701918Z",
     "start_time": "2020-02-24T10:35:31.042822Z"
    }
   },
   "outputs": [],
   "source": [
    "all_topics_csr = gensim.matutils.corpus2csc(lda_corpus) \n",
    "topic_score = all_topics_csr.T.toarray().tolist() #probabilty scores for each cluster"
   ]
  },
  {
   "cell_type": "code",
   "execution_count": 31,
   "metadata": {
    "ExecuteTime": {
     "end_time": "2020-02-24T10:35:40.717880Z",
     "start_time": "2020-02-24T10:35:40.701918Z"
    }
   },
   "outputs": [],
   "source": [
    "cluster_1=[]\n",
    "cluster_2=[]\n",
    "cluster_3=[]\n",
    "cluster_4=[]\n",
    "cluster_5=[]\n",
    "\n",
    "#splitting the respective cluster scores\n",
    "\n",
    "for i in topic_score:\n",
    "    cluster_1.append(i[0])\n",
    "    cluster_2.append(i[1])\n",
    "    cluster_3.append(i[2])\n",
    "    cluster_4.append(i[3])\n",
    "    cluster_5.append(i[4])\n",
    " "
   ]
  },
  {
   "cell_type": "code",
   "execution_count": 32,
   "metadata": {
    "ExecuteTime": {
     "end_time": "2020-02-24T10:35:40.910128Z",
     "start_time": "2020-02-24T10:35:40.717880Z"
    }
   },
   "outputs": [],
   "source": [
    "Topics_data = pd.DataFrame()\n",
    "Topics_data['Text']=documents\n",
    "Topics_data['cluster_1']=cluster_1\n",
    "Topics_data['cluster_2']=cluster_2\n",
    "Topics_data['cluster_3']=cluster_3\n",
    "Topics_data['cluster_4']=cluster_4\n",
    "Topics_data['cluster_5']=cluster_5"
   ]
  },
  {
   "cell_type": "code",
   "execution_count": 33,
   "metadata": {
    "ExecuteTime": {
     "end_time": "2020-02-24T10:35:41.020341Z",
     "start_time": "2020-02-24T10:35:40.914122Z"
    }
   },
   "outputs": [
    {
     "data": {
      "text/html": [
       "<div>\n",
       "<style scoped>\n",
       "    .dataframe tbody tr th:only-of-type {\n",
       "        vertical-align: middle;\n",
       "    }\n",
       "\n",
       "    .dataframe tbody tr th {\n",
       "        vertical-align: top;\n",
       "    }\n",
       "\n",
       "    .dataframe thead th {\n",
       "        text-align: right;\n",
       "    }\n",
       "</style>\n",
       "<table border=\"1\" class=\"dataframe\">\n",
       "  <thead>\n",
       "    <tr style=\"text-align: right;\">\n",
       "      <th></th>\n",
       "      <th>Text</th>\n",
       "      <th>cluster_1</th>\n",
       "      <th>cluster_2</th>\n",
       "      <th>cluster_3</th>\n",
       "      <th>cluster_4</th>\n",
       "      <th>cluster_5</th>\n",
       "    </tr>\n",
       "  </thead>\n",
       "  <tbody>\n",
       "    <tr>\n",
       "      <th>0</th>\n",
       "      <td>point focus ask right question right go tone accommodate impress</td>\n",
       "      <td>0.711206</td>\n",
       "      <td>0.018905</td>\n",
       "      <td>0.018902</td>\n",
       "      <td>0.019148</td>\n",
       "      <td>0.231839</td>\n",
       "    </tr>\n",
       "    <tr>\n",
       "      <th>1</th>\n",
       "      <td>explain issue body tell solve rather prescribe medicine</td>\n",
       "      <td>0.573508</td>\n",
       "      <td>0.358218</td>\n",
       "      <td>0.022835</td>\n",
       "      <td>0.022768</td>\n",
       "      <td>0.022670</td>\n",
       "    </tr>\n",
       "    <tr>\n",
       "      <th>2</th>\n",
       "      <td>listen patiently explain everything advise medicine get little releif overall thanks</td>\n",
       "      <td>0.190210</td>\n",
       "      <td>0.017220</td>\n",
       "      <td>0.017245</td>\n",
       "      <td>0.758187</td>\n",
       "      <td>0.017138</td>\n",
       "    </tr>\n",
       "    <tr>\n",
       "      <th>3</th>\n",
       "      <td>wonderfull explain clearly perfectly alright 😊</td>\n",
       "      <td>0.030212</td>\n",
       "      <td>0.879067</td>\n",
       "      <td>0.030166</td>\n",
       "      <td>0.030491</td>\n",
       "      <td>0.030063</td>\n",
       "    </tr>\n",
       "    <tr>\n",
       "      <th>4</th>\n",
       "      <td>book practo wait charge extra top seriously donot understand need book practo never app anyone go directly save money</td>\n",
       "      <td>0.010146</td>\n",
       "      <td>0.010139</td>\n",
       "      <td>0.010073</td>\n",
       "      <td>0.010268</td>\n",
       "      <td>0.959374</td>\n",
       "    </tr>\n",
       "  </tbody>\n",
       "</table>\n",
       "</div>"
      ],
      "text/plain": [
       "                                                                                                                    Text  \\\n",
       "0  point focus ask right question right go tone accommodate impress                                                        \n",
       "1  explain issue body tell solve rather prescribe medicine                                                                 \n",
       "2  listen patiently explain everything advise medicine get little releif overall thanks                                    \n",
       "3  wonderfull explain clearly perfectly alright 😊                                                                          \n",
       "4  book practo wait charge extra top seriously donot understand need book practo never app anyone go directly save money   \n",
       "\n",
       "   cluster_1  cluster_2  cluster_3  cluster_4  cluster_5  \n",
       "0  0.711206   0.018905   0.018902   0.019148   0.231839   \n",
       "1  0.573508   0.358218   0.022835   0.022768   0.022670   \n",
       "2  0.190210   0.017220   0.017245   0.758187   0.017138   \n",
       "3  0.030212   0.879067   0.030166   0.030491   0.030063   \n",
       "4  0.010146   0.010139   0.010073   0.010268   0.959374   "
      ]
     },
     "execution_count": 33,
     "metadata": {},
     "output_type": "execute_result"
    }
   ],
   "source": [
    "Topics_data.head() "
   ]
  },
  {
   "cell_type": "markdown",
   "metadata": {},
   "source": [
    "## K-Means Clustering"
   ]
  },
  {
   "cell_type": "code",
   "execution_count": 41,
   "metadata": {
    "ExecuteTime": {
     "end_time": "2020-02-24T10:38:11.686680Z",
     "start_time": "2020-02-24T10:37:42.841892Z"
    },
    "scrolled": false
   },
   "outputs": [
    {
     "name": "stdout",
     "output_type": "stream",
     "text": [
      "Cluster 0\n",
      "\n",
      "nice\n",
      "friendly\n",
      "treatment\n",
      "explain\n",
      "medicine\n",
      "really\n",
      "time\n",
      "really nice\n",
      "nice friendly\n",
      "visit\n",
      "\n",
      "\n",
      "Cluster 1\n",
      "\n",
      "treatment\n",
      "satisfy\n",
      "friendly\n",
      "satisfy treatment\n",
      "happy\n",
      "explain\n",
      "visit\n",
      "time\n",
      "thank\n",
      "diagnosis\n",
      "\n",
      "\n",
      "Cluster 2\n",
      "\n",
      "listen\n",
      "patiently\n",
      "carefully\n",
      "listen patiently\n",
      "listen carefully\n",
      "explain\n",
      "friendly\n",
      "time\n",
      "medicine\n",
      "friendly listen\n",
      "\n",
      "\n",
      "Cluster 3\n",
      "\n",
      "medicine\n",
      "test\n",
      "prescribe\n",
      "donot\n",
      "unnecessary\n",
      "prescribe medicine\n",
      "day\n",
      "visit\n",
      "suggest\n",
      "ask\n",
      "\n",
      "\n",
      "Cluster 4\n",
      "\n",
      "time\n",
      "friendly\n",
      "explain\n",
      "visit\n",
      "issue\n",
      "understand\n",
      "health\n",
      "treat\n",
      "clinic\n",
      "care\n",
      "\n",
      "\n"
     ]
    }
   ],
   "source": [
    "tf_idf = TfidfVectorizer(stop_words='english', ngram_range=(1, 5), min_df=25, max_df=0.98)\n",
    "tf_idf_vecs = tf_idf.fit_transform(documents)\n",
    "\n",
    "lsa = TruncatedSVD(n_components=500)\n",
    "lsa_vecs = lsa.fit_transform(tf_idf_vecs)\n",
    "lsa_vecs = Normalizer(copy=False).fit_transform(lsa_vecs)\n",
    "feature_names = tf_idf.get_feature_names()\n",
    "lsa_df = pd.DataFrame(lsa.components_.round(5), columns=feature_names)\n",
    "\n",
    "km = KMeans(n_clusters=5)\n",
    "km.fit(lsa_vecs)\n",
    "clusters = km.predict(lsa_vecs)\n",
    "\n",
    "km.cluster_centers_.shape\n",
    "\n",
    "original_space_centroids = lsa.inverse_transform(km.cluster_centers_)\n",
    "original_space_centroids.shape\n",
    "\n",
    "order_centroids = original_space_centroids.argsort()[:, ::-1]\n",
    "order_centroids.shape\n",
    "\n",
    "clusters=[]\n",
    "topics=[]\n",
    "\n",
    "\n",
    "\n",
    "for cluster in range(5):\n",
    "    features = order_centroids[cluster,0:10]\n",
    "    print('Cluster {}\\n'.format(cluster))\n",
    "    for feature in features:\n",
    "        print(feature_names[feature])\n",
    "        topics.append(feature_names[feature])\n",
    "    clusters.append(topics)\n",
    "    topics=[]\n",
    "    print('\\n')"
   ]
  },
  {
   "cell_type": "markdown",
   "metadata": {},
   "source": [
    "## determining the cluster distance"
   ]
  },
  {
   "cell_type": "code",
   "execution_count": 35,
   "metadata": {
    "ExecuteTime": {
     "end_time": "2020-02-24T10:36:08.999724Z",
     "start_time": "2020-02-24T10:36:08.907847Z"
    }
   },
   "outputs": [
    {
     "data": {
      "text/html": [
       "<div>\n",
       "<style scoped>\n",
       "    .dataframe tbody tr th:only-of-type {\n",
       "        vertical-align: middle;\n",
       "    }\n",
       "\n",
       "    .dataframe tbody tr th {\n",
       "        vertical-align: top;\n",
       "    }\n",
       "\n",
       "    .dataframe thead th {\n",
       "        text-align: right;\n",
       "    }\n",
       "</style>\n",
       "<table border=\"1\" class=\"dataframe\">\n",
       "  <thead>\n",
       "    <tr style=\"text-align: right;\">\n",
       "      <th></th>\n",
       "      <th>sqdist</th>\n",
       "      <th>cluster</th>\n",
       "      <th>reviews</th>\n",
       "    </tr>\n",
       "  </thead>\n",
       "  <tbody>\n",
       "    <tr>\n",
       "      <th>0</th>\n",
       "      <td>4.16</td>\n",
       "      <td>3</td>\n",
       "      <td>point focus ask right question right go tone accommodate impress</td>\n",
       "    </tr>\n",
       "    <tr>\n",
       "      <th>1</th>\n",
       "      <td>3.97</td>\n",
       "      <td>3</td>\n",
       "      <td>explain issue body tell solve rather prescribe medicine</td>\n",
       "    </tr>\n",
       "    <tr>\n",
       "      <th>2</th>\n",
       "      <td>3.89</td>\n",
       "      <td>2</td>\n",
       "      <td>listen patiently explain everything advise medicine get little releif overall thanks</td>\n",
       "    </tr>\n",
       "    <tr>\n",
       "      <th>3</th>\n",
       "      <td>4.15</td>\n",
       "      <td>3</td>\n",
       "      <td>wonderfull explain clearly perfectly alright 😊</td>\n",
       "    </tr>\n",
       "    <tr>\n",
       "      <th>4</th>\n",
       "      <td>4.13</td>\n",
       "      <td>3</td>\n",
       "      <td>book practo wait charge extra top seriously donot understand need book practo never app anyone go directly save money</td>\n",
       "    </tr>\n",
       "  </tbody>\n",
       "</table>\n",
       "</div>"
      ],
      "text/plain": [
       "   sqdist  cluster  \\\n",
       "0  4.16    3         \n",
       "1  3.97    3         \n",
       "2  3.89    2         \n",
       "3  4.15    3         \n",
       "4  4.13    3         \n",
       "\n",
       "                                                                                                                 reviews  \n",
       "0  point focus ask right question right go tone accommodate impress                                                       \n",
       "1  explain issue body tell solve rather prescribe medicine                                                                \n",
       "2  listen patiently explain everything advise medicine get little releif overall thanks                                   \n",
       "3  wonderfull explain clearly perfectly alright 😊                                                                         \n",
       "4  book practo wait charge extra top seriously donot understand need book practo never app anyone go directly save money  "
      ]
     },
     "execution_count": 35,
     "metadata": {},
     "output_type": "execute_result"
    }
   ],
   "source": [
    "X_dist = km.transform(lsa_vecs)**2\n",
    "\n",
    "# do something useful...\n",
    "import pandas as pd\n",
    "df = pd.DataFrame(X_dist.sum(axis=1).round(2), columns=['sqdist'])\n",
    "df['cluster'] = km.labels_\n",
    "\n",
    "\n",
    "df['reviews']=documents\n",
    "df.head()"
   ]
  },
  {
   "cell_type": "markdown",
   "metadata": {
    "ExecuteTime": {
     "end_time": "2020-02-13T03:51:41.940492Z",
     "start_time": "2020-02-13T03:51:41.932505Z"
    }
   },
   "source": [
    "## Tagging the cluster Name"
   ]
  },
  {
   "cell_type": "code",
   "execution_count": 36,
   "metadata": {
    "ExecuteTime": {
     "end_time": "2020-02-24T10:36:09.015702Z",
     "start_time": "2020-02-24T10:36:09.003718Z"
    }
   },
   "outputs": [],
   "source": [
    "def cluster(row):\n",
    "    cluster_no=row['cluster']\n",
    "    if cluster_no==0:\n",
    "        return clusters[0]\n",
    "    if cluster_no==1:\n",
    "        return clusters[1]\n",
    "    if cluster_no==2:\n",
    "        return clusters[2]\n",
    "    if cluster_no==3:\n",
    "        return clusters[3]\n",
    "    if cluster_no==4:\n",
    "        return clusters[4]"
   ]
  },
  {
   "cell_type": "code",
   "execution_count": 37,
   "metadata": {
    "ExecuteTime": {
     "end_time": "2020-02-24T10:36:09.550991Z",
     "start_time": "2020-02-24T10:36:09.019698Z"
    }
   },
   "outputs": [],
   "source": [
    "df['topics']=df.apply(lambda row:cluster(row),axis=1)"
   ]
  },
  {
   "cell_type": "code",
   "execution_count": 38,
   "metadata": {
    "ExecuteTime": {
     "end_time": "2020-02-24T10:36:09.574959Z",
     "start_time": "2020-02-24T10:36:09.554984Z"
    }
   },
   "outputs": [
    {
     "data": {
      "text/html": [
       "<div>\n",
       "<style scoped>\n",
       "    .dataframe tbody tr th:only-of-type {\n",
       "        vertical-align: middle;\n",
       "    }\n",
       "\n",
       "    .dataframe tbody tr th {\n",
       "        vertical-align: top;\n",
       "    }\n",
       "\n",
       "    .dataframe thead th {\n",
       "        text-align: right;\n",
       "    }\n",
       "</style>\n",
       "<table border=\"1\" class=\"dataframe\">\n",
       "  <thead>\n",
       "    <tr style=\"text-align: right;\">\n",
       "      <th></th>\n",
       "      <th>sqdist</th>\n",
       "      <th>cluster</th>\n",
       "      <th>reviews</th>\n",
       "      <th>topics</th>\n",
       "    </tr>\n",
       "  </thead>\n",
       "  <tbody>\n",
       "    <tr>\n",
       "      <th>0</th>\n",
       "      <td>4.16</td>\n",
       "      <td>3</td>\n",
       "      <td>point focus ask right question right go tone accommodate impress</td>\n",
       "      <td>[time, medicine, visit, explain, test, donot, understand, issue, day, nice]</td>\n",
       "    </tr>\n",
       "    <tr>\n",
       "      <th>1</th>\n",
       "      <td>3.97</td>\n",
       "      <td>3</td>\n",
       "      <td>explain issue body tell solve rather prescribe medicine</td>\n",
       "      <td>[time, medicine, visit, explain, test, donot, understand, issue, day, nice]</td>\n",
       "    </tr>\n",
       "    <tr>\n",
       "      <th>2</th>\n",
       "      <td>3.89</td>\n",
       "      <td>2</td>\n",
       "      <td>listen patiently explain everything advise medicine get little releif overall thanks</td>\n",
       "      <td>[listen, patiently, carefully, listen carefully, listen patiently, medicine, prescribe, time, explain, issue]</td>\n",
       "    </tr>\n",
       "    <tr>\n",
       "      <th>3</th>\n",
       "      <td>4.15</td>\n",
       "      <td>3</td>\n",
       "      <td>wonderfull explain clearly perfectly alright 😊</td>\n",
       "      <td>[time, medicine, visit, explain, test, donot, understand, issue, day, nice]</td>\n",
       "    </tr>\n",
       "    <tr>\n",
       "      <th>4</th>\n",
       "      <td>4.13</td>\n",
       "      <td>3</td>\n",
       "      <td>book practo wait charge extra top seriously donot understand need book practo never app anyone go directly save money</td>\n",
       "      <td>[time, medicine, visit, explain, test, donot, understand, issue, day, nice]</td>\n",
       "    </tr>\n",
       "  </tbody>\n",
       "</table>\n",
       "</div>"
      ],
      "text/plain": [
       "   sqdist  cluster  \\\n",
       "0  4.16    3         \n",
       "1  3.97    3         \n",
       "2  3.89    2         \n",
       "3  4.15    3         \n",
       "4  4.13    3         \n",
       "\n",
       "                                                                                                                 reviews  \\\n",
       "0  point focus ask right question right go tone accommodate impress                                                        \n",
       "1  explain issue body tell solve rather prescribe medicine                                                                 \n",
       "2  listen patiently explain everything advise medicine get little releif overall thanks                                    \n",
       "3  wonderfull explain clearly perfectly alright 😊                                                                          \n",
       "4  book practo wait charge extra top seriously donot understand need book practo never app anyone go directly save money   \n",
       "\n",
       "                                                                                                          topics  \n",
       "0  [time, medicine, visit, explain, test, donot, understand, issue, day, nice]                                    \n",
       "1  [time, medicine, visit, explain, test, donot, understand, issue, day, nice]                                    \n",
       "2  [listen, patiently, carefully, listen carefully, listen patiently, medicine, prescribe, time, explain, issue]  \n",
       "3  [time, medicine, visit, explain, test, donot, understand, issue, day, nice]                                    \n",
       "4  [time, medicine, visit, explain, test, donot, understand, issue, day, nice]                                    "
      ]
     },
     "execution_count": 38,
     "metadata": {},
     "output_type": "execute_result"
    }
   ],
   "source": [
    "df.head()"
   ]
  },
  {
   "cell_type": "code",
   "execution_count": null,
   "metadata": {
    "ExecuteTime": {
     "end_time": "2020-02-22T02:47:36.212313Z",
     "start_time": "2020-02-22T02:47:36.172364Z"
    }
   },
   "outputs": [],
   "source": []
  },
  {
   "cell_type": "code",
   "execution_count": null,
   "metadata": {
    "ExecuteTime": {
     "end_time": "2020-02-24T10:37:37.400737Z",
     "start_time": "2020-02-24T10:26:46.885Z"
    }
   },
   "outputs": [],
   "source": [
    "#from sklearn.cluster import AgglomerativeClustering"
   ]
  },
  {
   "cell_type": "code",
   "execution_count": null,
   "metadata": {
    "ExecuteTime": {
     "end_time": "2020-02-24T10:37:37.424705Z",
     "start_time": "2020-02-24T10:26:47.205Z"
    }
   },
   "outputs": [],
   "source": [
    "#import numpy as np\n",
    "\n",
    "#clustering = AgglomerativeClustering().fit(lsa_vecs)\n"
   ]
  },
  {
   "cell_type": "code",
   "execution_count": null,
   "metadata": {
    "ExecuteTime": {
     "end_time": "2020-02-24T10:37:36.414058Z",
     "start_time": "2020-02-24T10:25:53.616Z"
    }
   },
   "outputs": [],
   "source": [
    "#from sklearn.metrics.pairwise import cosine_similarity\n",
    "#dist = 1 - cosine_similarity(lsa_vecs)"
   ]
  },
  {
   "cell_type": "code",
   "execution_count": null,
   "metadata": {
    "ExecuteTime": {
     "end_time": "2020-02-24T10:37:36.414058Z",
     "start_time": "2020-02-24T10:25:53.622Z"
    }
   },
   "outputs": [],
   "source": [
    "#from scipy.cluster.hierarchy import ward, dendrogram\n",
    "\n",
    "#linkage_matrix = ward(dist) #define the linkage_matrix using ward clustering pre-computed distances\n",
    "\n",
    "#fig, ax = plt.subplots(figsize=(100, 100)) # set size\n",
    "#ax = dendrogram(linkage_matrix, orientation=\"right\");\n",
    "\n",
    "#plt.show()"
   ]
  }
 ],
 "metadata": {
  "kernelspec": {
   "display_name": "Python 3",
   "language": "python",
   "name": "python3"
  },
  "language_info": {
   "codemirror_mode": {
    "name": "ipython",
    "version": 3
   },
   "file_extension": ".py",
   "mimetype": "text/x-python",
   "name": "python",
   "nbconvert_exporter": "python",
   "pygments_lexer": "ipython3",
   "version": "3.7.5"
  },
  "varInspector": {
   "cols": {
    "lenName": 16,
    "lenType": 16,
    "lenVar": 40
   },
   "kernels_config": {
    "python": {
     "delete_cmd_postfix": "",
     "delete_cmd_prefix": "del ",
     "library": "var_list.py",
     "varRefreshCmd": "print(var_dic_list())"
    },
    "r": {
     "delete_cmd_postfix": ") ",
     "delete_cmd_prefix": "rm(",
     "library": "var_list.r",
     "varRefreshCmd": "cat(var_dic_list()) "
    }
   },
   "types_to_exclude": [
    "module",
    "function",
    "builtin_function_or_method",
    "instance",
    "_Feature"
   ],
   "window_display": false
  }
 },
 "nbformat": 4,
 "nbformat_minor": 2
}
