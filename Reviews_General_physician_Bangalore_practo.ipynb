{
 "cells": [
  {
   "cell_type": "markdown",
   "metadata": {},
   "source": [
    "                                           Reviews-Bangalore"
   ]
  },
  {
   "cell_type": "code",
   "execution_count": 113,
   "metadata": {
    "ExecuteTime": {
     "end_time": "2020-02-02T06:39:36.503222Z",
     "start_time": "2020-02-02T06:39:36.497210Z"
    }
   },
   "outputs": [],
   "source": [
    "import requests\n",
    "from bs4 import BeautifulSoup\n",
    "import pandas as pd\n",
    "import re\n",
    "import time\n",
    "from selenium.common.exceptions import NoSuchElementException\n",
    "import sys"
   ]
  },
  {
   "cell_type": "code",
   "execution_count": 2,
   "metadata": {
    "ExecuteTime": {
     "end_time": "2020-02-01T07:09:52.807846Z",
     "start_time": "2020-02-01T07:09:52.800543Z"
    }
   },
   "outputs": [],
   "source": [
    "header={'user-agent':'Mozilla/5.0 (Windows NT 10.0; Win64; x64) AppleWebKit/537.36 (KHTML, like Gecko) Chrome/79.0.3945.117 Safari/537.36'}"
   ]
  },
  {
   "cell_type": "markdown",
   "metadata": {},
   "source": [
    "## Function to get the webpage"
   ]
  },
  {
   "cell_type": "code",
   "execution_count": 3,
   "metadata": {
    "ExecuteTime": {
     "end_time": "2020-02-01T07:09:52.905260Z",
     "start_time": "2020-02-01T07:09:52.812835Z"
    }
   },
   "outputs": [],
   "source": [
    "def Search(search_query):\n",
    "    url='https://www.practo.com/search?results_type=doctor&q=%5B%7B%22word%22%3A%22general%20physician%22%2C%22autocompleted%22%3Atrue%2C%22category%22%3A%22subspeciality%22%7D%5D&city=Bangalore&page='+search_query\n",
    "    time.sleep(1)\n",
    "    page=requests.get(url,headers=header)\n",
    "    if page.status_code==200:\n",
    "        return page\n",
    "    else:\n",
    "        return \"Error\""
   ]
  },
  {
   "cell_type": "markdown",
   "metadata": {},
   "source": [
    "## Function to scrape the link of individual doctor's profile"
   ]
  },
  {
   "cell_type": "code",
   "execution_count": 4,
   "metadata": {
    "ExecuteTime": {
     "end_time": "2020-02-01T07:18:34.777850Z",
     "start_time": "2020-02-01T07:09:52.910128Z"
    }
   },
   "outputs": [],
   "source": [
    "link=[]\n",
    "for i in range(95):  #Doctor's profiles are in 95 pages\n",
    "    search_response=Search(str(i))\n",
    "    soup=BeautifulSoup(search_response.content) #soup has the content of the page\n",
    "    links= soup.findAll('a',{'class':\"u-color--primary\"}) #accessing the link of the doctor's profile\n",
    "    for l in links:\n",
    "        link.append(l.get('href')) #saves all the links"
   ]
  },
  {
   "cell_type": "code",
   "execution_count": 5,
   "metadata": {
    "ExecuteTime": {
     "end_time": "2020-02-01T07:18:34.822895Z",
     "start_time": "2020-02-01T07:18:34.779853Z"
    }
   },
   "outputs": [],
   "source": [
    "df=pd.DataFrame()\n",
    "\n",
    "df['link']=link"
   ]
  },
  {
   "cell_type": "markdown",
   "metadata": {},
   "source": [
    "## Function to change the address of the link(so that we will get the recent reviews)"
   ]
  },
  {
   "cell_type": "code",
   "execution_count": 6,
   "metadata": {
    "ExecuteTime": {
     "end_time": "2020-02-01T07:18:34.897183Z",
     "start_time": "2020-02-01T07:18:34.823864Z"
    }
   },
   "outputs": [],
   "source": [
    "def clean(row):\n",
    "    Link=row['link']\n",
    "    Link=Link.split('?')\n",
    "    return Link[0]+'/recent'"
   ]
  },
  {
   "cell_type": "code",
   "execution_count": 7,
   "metadata": {
    "ExecuteTime": {
     "end_time": "2020-02-01T07:18:35.034438Z",
     "start_time": "2020-02-01T07:18:34.902177Z"
    }
   },
   "outputs": [],
   "source": [
    "df['link']=df.apply(lambda row:clean(row),axis=1) #calling the function"
   ]
  },
  {
   "cell_type": "code",
   "execution_count": 12,
   "metadata": {
    "ExecuteTime": {
     "end_time": "2020-02-01T07:21:31.317916Z",
     "start_time": "2020-02-01T07:21:31.285006Z"
    }
   },
   "outputs": [],
   "source": [
    "df=df.drop_duplicates(subset='link').reset_index(drop=True) #droping the duplicates links"
   ]
  },
  {
   "cell_type": "code",
   "execution_count": 13,
   "metadata": {
    "ExecuteTime": {
     "end_time": "2020-02-01T07:21:32.591521Z",
     "start_time": "2020-02-01T07:21:32.585531Z"
    }
   },
   "outputs": [],
   "source": [
    "Links=df['link']"
   ]
  },
  {
   "cell_type": "markdown",
   "metadata": {
    "ExecuteTime": {
     "end_time": "2020-02-02T07:48:14.606309Z",
     "start_time": "2020-02-02T07:48:14.577387Z"
    }
   },
   "source": [
    "## Initializing selenium \n",
    "\n",
    "###### As we have infinite scrolling, selenium will be easy to click the more button"
   ]
  },
  {
   "cell_type": "code",
   "execution_count": 183,
   "metadata": {
    "ExecuteTime": {
     "end_time": "2020-02-03T02:55:59.572793Z",
     "start_time": "2020-02-03T02:55:48.785389Z"
    }
   },
   "outputs": [],
   "source": [
    "from selenium import webdriver\n",
    "\n",
    "options = webdriver.ChromeOptions()\n",
    "options.add_argument('--ignore-certificate-errors')\n",
    "options.add_argument('--incognito')\n",
    "options.add_argument('--headless')\n",
    "from webdriver_manager.chrome import ChromeDriverManager\n",
    "\n",
    "driver = webdriver.Chrome(executable_path='C:/Users/VIJESH\\Desktop/chromedriver.exe')"
   ]
  },
  {
   "cell_type": "markdown",
   "metadata": {},
   "source": [
    "## Function to click more button (to get all the reviews of the respective doctor)"
   ]
  },
  {
   "cell_type": "code",
   "execution_count": 184,
   "metadata": {
    "ExecuteTime": {
     "end_time": "2020-02-03T02:55:59.827110Z",
     "start_time": "2020-02-03T02:55:59.820131Z"
    }
   },
   "outputs": [],
   "source": [
    "def review_page(query):    \n",
    "    driver.get(\"https://www.practo.com\"+Links[query]) #opens the doctor's profile\n",
    "    for i in range(45):                               #45 times it clicks the more button\n",
    "        try:\n",
    "            driver.find_element_by_xpath('//button[@data-qa-id=\"view-more-feedback\"]').click()\n",
    "            time.sleep(1)\n",
    "        except NoSuchElementException:\n",
    "            pass\n",
    "    return driver.page_source"
   ]
  },
  {
   "cell_type": "markdown",
   "metadata": {
    "ExecuteTime": {
     "end_time": "2020-02-02T06:45:04.004248Z",
     "start_time": "2020-02-02T06:45:03.995274Z"
    }
   },
   "source": [
    "## Function to scrape the reviews"
   ]
  },
  {
   "cell_type": "code",
   "execution_count": 185,
   "metadata": {
    "ExecuteTime": {
     "end_time": "2020-02-03T03:45:03.501331Z",
     "start_time": "2020-02-03T02:56:00.097386Z"
    }
   },
   "outputs": [],
   "source": [
    "review=[]\n",
    "rev=''\n",
    "recom=[]\n",
    "import time\n",
    "for i in range(len(Links)):\n",
    "    soup = BeautifulSoup(review_page(int(i)), 'lxml')   #soup has the content of the doctor's profile\n",
    "    for rev_clas in soup.findAll(attrs={'class':\"feedback__body\"}): #acessing the tag in which reviews are present\n",
    "        for i in rev_clas.findAll(attrs={'data-qa-id':\"review-text\"}):#saves all the patient reviews \n",
    "            rev=rev+i.text\n",
    "        review.append(rev)\n",
    "        rev=''\n",
    "    for rev_clas in soup.findAll(attrs={'class':\"pure-g feedback--item u-cushion--medium-vertical\"}):\n",
    "        for i in rev_clas.findAll(attrs={'class':'u-cushion--small-bottom u-large-font'}):#saves the recommendations\n",
    "            recom.append(i.text)"
   ]
  },
  {
   "cell_type": "code",
   "execution_count": null,
   "metadata": {
    "ExecuteTime": {
     "end_time": "2020-02-01T07:22:15.026562Z",
     "start_time": "2020-02-01T07:21:35.785Z"
    }
   },
   "outputs": [],
   "source": []
  },
  {
   "cell_type": "code",
   "execution_count": 186,
   "metadata": {
    "ExecuteTime": {
     "end_time": "2020-02-03T03:46:56.950146Z",
     "start_time": "2020-02-03T03:46:56.938145Z"
    }
   },
   "outputs": [
    {
     "data": {
      "text/plain": [
       "9277"
      ]
     },
     "execution_count": 186,
     "metadata": {},
     "output_type": "execute_result"
    }
   ],
   "source": [
    "len(review) #length of the reviews"
   ]
  },
  {
   "cell_type": "code",
   "execution_count": null,
   "metadata": {
    "ExecuteTime": {
     "end_time": "2020-02-02T07:51:11.044279Z",
     "start_time": "2020-02-02T07:51:11.036297Z"
    }
   },
   "outputs": [],
   "source": []
  },
  {
   "cell_type": "code",
   "execution_count": 187,
   "metadata": {
    "ExecuteTime": {
     "end_time": "2020-02-03T03:47:12.677827Z",
     "start_time": "2020-02-03T03:47:12.669831Z"
    }
   },
   "outputs": [],
   "source": [
    "df_1=pd.DataFrame()"
   ]
  },
  {
   "cell_type": "code",
   "execution_count": 188,
   "metadata": {
    "ExecuteTime": {
     "end_time": "2020-02-03T03:47:13.441534Z",
     "start_time": "2020-02-03T03:47:13.433533Z"
    }
   },
   "outputs": [],
   "source": [
    "df_1['reviews']=review"
   ]
  },
  {
   "cell_type": "code",
   "execution_count": 189,
   "metadata": {
    "ExecuteTime": {
     "end_time": "2020-02-03T03:47:14.281853Z",
     "start_time": "2020-02-03T03:47:14.265852Z"
    }
   },
   "outputs": [],
   "source": [
    "df_1=df_1.drop_duplicates() #dropping all duplicates"
   ]
  },
  {
   "cell_type": "code",
   "execution_count": null,
   "metadata": {
    "ExecuteTime": {
     "end_time": "2020-02-03T03:47:14.965254Z",
     "start_time": "2020-02-03T03:47:14.957255Z"
    }
   },
   "outputs": [],
   "source": []
  },
  {
   "cell_type": "markdown",
   "metadata": {
    "ExecuteTime": {
     "end_time": "2020-02-03T04:08:20.093117Z",
     "start_time": "2020-02-03T04:08:19.686593Z"
    }
   },
   "source": [
    "## Function to tag the location"
   ]
  },
  {
   "cell_type": "code",
   "execution_count": 193,
   "metadata": {
    "ExecuteTime": {
     "end_time": "2020-02-03T04:48:10.221332Z",
     "start_time": "2020-02-03T04:48:10.213321Z"
    }
   },
   "outputs": [],
   "source": [
    "def location(row):\n",
    "    each_row=row['reviews']\n",
    "    return 'Bangalore'"
   ]
  },
  {
   "cell_type": "code",
   "execution_count": 194,
   "metadata": {
    "ExecuteTime": {
     "end_time": "2020-02-03T04:49:21.623981Z",
     "start_time": "2020-02-03T04:49:21.499980Z"
    }
   },
   "outputs": [],
   "source": [
    "df_1['location']=df_1.apply(lambda row:location(row),axis=1) #calling function"
   ]
  },
  {
   "cell_type": "code",
   "execution_count": 195,
   "metadata": {
    "ExecuteTime": {
     "end_time": "2020-02-03T04:49:28.043264Z",
     "start_time": "2020-02-03T04:49:28.027265Z"
    }
   },
   "outputs": [
    {
     "data": {
      "text/html": [
       "<div>\n",
       "<style scoped>\n",
       "    .dataframe tbody tr th:only-of-type {\n",
       "        vertical-align: middle;\n",
       "    }\n",
       "\n",
       "    .dataframe tbody tr th {\n",
       "        vertical-align: top;\n",
       "    }\n",
       "\n",
       "    .dataframe thead th {\n",
       "        text-align: right;\n",
       "    }\n",
       "</style>\n",
       "<table border=\"1\" class=\"dataframe\">\n",
       "  <thead>\n",
       "    <tr style=\"text-align: right;\">\n",
       "      <th></th>\n",
       "      <th>reviews</th>\n",
       "      <th>location</th>\n",
       "    </tr>\n",
       "  </thead>\n",
       "  <tbody>\n",
       "    <tr>\n",
       "      <th>0</th>\n",
       "      <td>This doctor is so to the point and focused and...</td>\n",
       "      <td>Bangalore</td>\n",
       "    </tr>\n",
       "    <tr>\n",
       "      <th>1</th>\n",
       "      <td>*** ** *** **** ****** ** ********** ***** She...</td>\n",
       "      <td>Bangalore</td>\n",
       "    </tr>\n",
       "    <tr>\n",
       "      <th>2</th>\n",
       "      <td>Doctor listened very patiently and explained ...</td>\n",
       "      <td>Bangalore</td>\n",
       "    </tr>\n",
       "    <tr>\n",
       "      <th>3</th>\n",
       "      <td>such a wonderfull doctor who explains clearly ...</td>\n",
       "      <td>Bangalore</td>\n",
       "    </tr>\n",
       "    <tr>\n",
       "      <th>4</th>\n",
       "      <td>Even  after booking through practo we had to w...</td>\n",
       "      <td>Bangalore</td>\n",
       "    </tr>\n",
       "  </tbody>\n",
       "</table>\n",
       "</div>"
      ],
      "text/plain": [
       "                                             reviews   location\n",
       "0  This doctor is so to the point and focused and...  Bangalore\n",
       "1  *** ** *** **** ****** ** ********** ***** She...  Bangalore\n",
       "2   Doctor listened very patiently and explained ...  Bangalore\n",
       "3  such a wonderfull doctor who explains clearly ...  Bangalore\n",
       "4  Even  after booking through practo we had to w...  Bangalore"
      ]
     },
     "execution_count": 195,
     "metadata": {},
     "output_type": "execute_result"
    }
   ],
   "source": [
    "df_1.head()"
   ]
  },
  {
   "cell_type": "code",
   "execution_count": 196,
   "metadata": {
    "ExecuteTime": {
     "end_time": "2020-02-03T04:50:22.218311Z",
     "start_time": "2020-02-03T04:50:22.150315Z"
    }
   },
   "outputs": [],
   "source": [
    "df_1.to_csv('doctor_Bangalore.csv',index=False) #saving the dataframe as CSV"
   ]
  },
  {
   "cell_type": "code",
   "execution_count": null,
   "metadata": {},
   "outputs": [],
   "source": []
  }
 ],
 "metadata": {
  "kernelspec": {
   "display_name": "Python 3",
   "language": "python",
   "name": "python3"
  },
  "language_info": {
   "codemirror_mode": {
    "name": "ipython",
    "version": 3
   },
   "file_extension": ".py",
   "mimetype": "text/x-python",
   "name": "python",
   "nbconvert_exporter": "python",
   "pygments_lexer": "ipython3",
   "version": "3.7.5"
  },
  "varInspector": {
   "cols": {
    "lenName": 16,
    "lenType": 16,
    "lenVar": 40
   },
   "kernels_config": {
    "python": {
     "delete_cmd_postfix": "",
     "delete_cmd_prefix": "del ",
     "library": "var_list.py",
     "varRefreshCmd": "print(var_dic_list())"
    },
    "r": {
     "delete_cmd_postfix": ") ",
     "delete_cmd_prefix": "rm(",
     "library": "var_list.r",
     "varRefreshCmd": "cat(var_dic_list()) "
    }
   },
   "types_to_exclude": [
    "module",
    "function",
    "builtin_function_or_method",
    "instance",
    "_Feature"
   ],
   "window_display": false
  }
 },
 "nbformat": 4,
 "nbformat_minor": 2
}
