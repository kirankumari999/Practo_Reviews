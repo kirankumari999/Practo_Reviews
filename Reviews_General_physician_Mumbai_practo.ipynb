{
 "cells": [
  {
   "cell_type": "markdown",
   "metadata": {},
   "source": [
    "                                             Reviews-Mumbai"
   ]
  },
  {
   "cell_type": "code",
   "execution_count": 1,
   "metadata": {
    "ExecuteTime": {
     "end_time": "2020-02-03T04:53:46.443357Z",
     "start_time": "2020-02-03T04:53:44.395281Z"
    }
   },
   "outputs": [],
   "source": [
    "import requests\n",
    "from bs4 import BeautifulSoup\n",
    "import pandas as pd\n",
    "import re\n",
    "import time\n",
    "from selenium.common.exceptions import NoSuchElementException\n",
    "import sys"
   ]
  },
  {
   "cell_type": "code",
   "execution_count": 2,
   "metadata": {
    "ExecuteTime": {
     "end_time": "2020-02-03T04:53:46.451357Z",
     "start_time": "2020-02-03T04:53:46.443357Z"
    }
   },
   "outputs": [],
   "source": [
    "\n",
    "#header\n",
    "header={'user-agent':'Mozilla/5.0 (Windows NT 10.0; Win64; x64) AppleWebKit/537.36 (KHTML, like Gecko) Chrome/79.0.3945.117 Safari/537.36'}"
   ]
  },
  {
   "cell_type": "markdown",
   "metadata": {},
   "source": [
    "## Function to get the webpage"
   ]
  },
  {
   "cell_type": "code",
   "execution_count": 3,
   "metadata": {
    "ExecuteTime": {
     "end_time": "2020-02-03T04:53:46.579358Z",
     "start_time": "2020-02-03T04:53:46.451357Z"
    }
   },
   "outputs": [],
   "source": [
    "def Search(search_query):\n",
    "    url='https://www.practo.com/search?results_type=doctor&q=%5B%7B%22word%22%3A%22general%20physician%22%2C%22autocompleted%22%3Atrue%2C%22category%22%3A%22subspeciality%22%7D%5D&city=Mumbai&page='+search_query\n",
    "    time.sleep(1)\n",
    "    page=requests.get(url,headers=header)\n",
    "    if page.status_code==200: \n",
    "        return page\n",
    "    else:\n",
    "        return \"Error\""
   ]
  },
  {
   "cell_type": "markdown",
   "metadata": {},
   "source": [
    "## Function to scrape the link of individual doctor's profile"
   ]
  },
  {
   "cell_type": "code",
   "execution_count": 4,
   "metadata": {
    "ExecuteTime": {
     "end_time": "2020-02-03T04:57:13.869463Z",
     "start_time": "2020-02-03T04:53:46.579358Z"
    }
   },
   "outputs": [],
   "source": [
    "link=[]\n",
    "for i in range(80):   #Doctor profiles are in 80 pages\n",
    "    search_response=Search(str(i))\n",
    "    soup=BeautifulSoup(search_response.content)#soup has all the content in the page\n",
    "    links= soup.findAll('a',{'class':\"u-color--primary\"}) \n",
    "    for l in links:\n",
    "        link.append(l.get('href'))#links are saved in a list"
   ]
  },
  {
   "cell_type": "code",
   "execution_count": 5,
   "metadata": {
    "ExecuteTime": {
     "end_time": "2020-02-03T04:57:13.877238Z",
     "start_time": "2020-02-03T04:57:13.869463Z"
    }
   },
   "outputs": [],
   "source": [
    "df=pd.DataFrame()\n",
    "\n",
    "df['link']=link #converting the list to dataframe"
   ]
  },
  {
   "cell_type": "markdown",
   "metadata": {},
   "source": [
    "## Function to change the address of the link(so that we will get the recent reviews)"
   ]
  },
  {
   "cell_type": "code",
   "execution_count": 6,
   "metadata": {
    "ExecuteTime": {
     "end_time": "2020-02-03T04:57:14.001469Z",
     "start_time": "2020-02-03T04:57:13.877238Z"
    }
   },
   "outputs": [],
   "source": [
    "def clean(row):\n",
    "    Link=row['link']\n",
    "    Link=Link.split('?')\n",
    "    return Link[0]+'/recent'"
   ]
  },
  {
   "cell_type": "code",
   "execution_count": 7,
   "metadata": {
    "ExecuteTime": {
     "end_time": "2020-02-03T04:57:14.093848Z",
     "start_time": "2020-02-03T04:57:14.005472Z"
    }
   },
   "outputs": [],
   "source": [
    "df['link']=df.apply(lambda row:clean(row),axis=1) #function calling"
   ]
  },
  {
   "cell_type": "code",
   "execution_count": 8,
   "metadata": {
    "ExecuteTime": {
     "end_time": "2020-02-03T04:57:14.157895Z",
     "start_time": "2020-02-03T04:57:14.097469Z"
    }
   },
   "outputs": [],
   "source": [
    "df=df.drop_duplicates(subset='link').reset_index(drop=True) #dropping all duplicate links"
   ]
  },
  {
   "cell_type": "code",
   "execution_count": 9,
   "metadata": {
    "ExecuteTime": {
     "end_time": "2020-02-03T04:57:14.382551Z",
     "start_time": "2020-02-03T04:57:14.161475Z"
    }
   },
   "outputs": [],
   "source": [
    "Links=df['link']"
   ]
  },
  {
   "cell_type": "markdown",
   "metadata": {
    "ExecuteTime": {
     "end_time": "2020-02-02T07:48:14.606309Z",
     "start_time": "2020-02-02T07:48:14.577387Z"
    }
   },
   "source": [
    "## Initializing selenium \n",
    "\n",
    "###### As we have infinite scrolling, selenium will be easy to click the more button"
   ]
  },
  {
   "cell_type": "code",
   "execution_count": 10,
   "metadata": {
    "ExecuteTime": {
     "end_time": "2020-02-03T04:57:23.131259Z",
     "start_time": "2020-02-03T04:57:14.382551Z"
    }
   },
   "outputs": [],
   "source": [
    "from selenium import webdriver\n",
    "\n",
    "options = webdriver.ChromeOptions()\n",
    "options.add_argument('--ignore-certificate-errors')\n",
    "options.add_argument('--incognito')\n",
    "options.add_argument('--headless')\n",
    "from webdriver_manager.chrome import ChromeDriverManager\n",
    "\n",
    "driver = webdriver.Chrome(executable_path='C:/Users/VIJESH\\Desktop/chromedriver.exe')"
   ]
  },
  {
   "cell_type": "markdown",
   "metadata": {
    "ExecuteTime": {
     "end_time": "2020-02-01T09:56:29.688875Z",
     "start_time": "2020-02-01T09:56:29.681895Z"
    }
   },
   "source": [
    "## Function to click more button (to get all the reviews of the respective doctor)"
   ]
  },
  {
   "cell_type": "code",
   "execution_count": 17,
   "metadata": {
    "ExecuteTime": {
     "end_time": "2020-02-03T05:50:43.625432Z",
     "start_time": "2020-02-03T05:50:43.617438Z"
    }
   },
   "outputs": [],
   "source": [
    "def review_page(query):    \n",
    "    driver.get(\"https://www.practo.com\"+Links[query]) #opens the profile of the doctors\n",
    "    for i in range(45):                                                           #45 times clicks the more reviews button\n",
    "        try:\n",
    "            driver.find_element_by_xpath('//button[@data-qa-id=\"view-more-feedback\"]').click() \n",
    "            time.sleep(2)\n",
    "        except NoSuchElementException: \n",
    "            pass\n",
    "    return driver.page_source  #returns the page"
   ]
  },
  {
   "cell_type": "markdown",
   "metadata": {
    "ExecuteTime": {
     "end_time": "2020-02-02T06:45:04.004248Z",
     "start_time": "2020-02-02T06:45:03.995274Z"
    }
   },
   "source": [
    "## Function to scrape the reviews"
   ]
  },
  {
   "cell_type": "code",
   "execution_count": 18,
   "metadata": {
    "ExecuteTime": {
     "end_time": "2020-02-03T06:36:48.426562Z",
     "start_time": "2020-02-03T05:50:44.273216Z"
    }
   },
   "outputs": [],
   "source": [
    "review=[]\n",
    "rev=''\n",
    "recom=[]\n",
    "import time\n",
    "for i in range(len(Links)): \n",
    "    soup = BeautifulSoup(review_page(int(i)), 'lxml')#soup has the content of the doctor's profile\n",
    "    for rev_clas in soup.findAll(attrs={'class':\"feedback__body\"}): #accessing the tad in which reviews are present\n",
    "        for i in rev_clas.findAll(attrs={'data-qa-id':\"review-text\"}):#saves all the patient reviews \n",
    "            rev=rev+i.text\n",
    "        review.append(rev)\n",
    "        rev=''\n",
    "    for rev_clas in soup.findAll(attrs={'class':\"pure-g feedback--item u-cushion--medium-vertical\"}):\n",
    "        for i in rev_clas.findAll(attrs={'class':'u-cushion--small-bottom u-large-font'}): #saves the recommendations\n",
    "            recom.append(i.text)"
   ]
  },
  {
   "cell_type": "code",
   "execution_count": 19,
   "metadata": {
    "ExecuteTime": {
     "end_time": "2020-02-03T06:38:15.726452Z",
     "start_time": "2020-02-03T06:38:15.718473Z"
    }
   },
   "outputs": [
    {
     "data": {
      "text/plain": [
       "2296"
      ]
     },
     "execution_count": 19,
     "metadata": {},
     "output_type": "execute_result"
    }
   ],
   "source": [
    "len(review) #total length"
   ]
  },
  {
   "cell_type": "code",
   "execution_count": 28,
   "metadata": {
    "ExecuteTime": {
     "end_time": "2020-02-04T06:07:27.635437Z",
     "start_time": "2020-02-04T06:07:27.087520Z"
    }
   },
   "outputs": [
    {
     "data": {
      "text/plain": [
       "2296"
      ]
     },
     "execution_count": 28,
     "metadata": {},
     "output_type": "execute_result"
    }
   ],
   "source": [
    "len(recom) #total recommendations"
   ]
  },
  {
   "cell_type": "code",
   "execution_count": 29,
   "metadata": {
    "ExecuteTime": {
     "end_time": "2020-02-04T06:07:31.273235Z",
     "start_time": "2020-02-04T06:07:31.147097Z"
    }
   },
   "outputs": [],
   "source": [
    "df_1=pd.DataFrame()"
   ]
  },
  {
   "cell_type": "markdown",
   "metadata": {},
   "source": [
    "## creating a dataframe"
   ]
  },
  {
   "cell_type": "code",
   "execution_count": 30,
   "metadata": {
    "ExecuteTime": {
     "end_time": "2020-02-04T06:07:53.388595Z",
     "start_time": "2020-02-04T06:07:52.692235Z"
    }
   },
   "outputs": [],
   "source": [
    "df_1['reviews']=review\n",
    "df_1['recommendation']=recom "
   ]
  },
  {
   "cell_type": "code",
   "execution_count": 31,
   "metadata": {
    "ExecuteTime": {
     "end_time": "2020-02-04T06:07:56.143227Z",
     "start_time": "2020-02-04T06:07:55.780855Z"
    }
   },
   "outputs": [],
   "source": [
    "df_1=df_1.drop_duplicates() #dropping all duplicates"
   ]
  },
  {
   "cell_type": "markdown",
   "metadata": {},
   "source": [
    "## Function to tag the location"
   ]
  },
  {
   "cell_type": "code",
   "execution_count": 32,
   "metadata": {
    "ExecuteTime": {
     "end_time": "2020-02-04T06:07:56.400646Z",
     "start_time": "2020-02-04T06:07:56.396659Z"
    }
   },
   "outputs": [],
   "source": [
    "def location(row):\n",
    "    each_row=row['reviews']\n",
    "    return 'Mumbai'"
   ]
  },
  {
   "cell_type": "code",
   "execution_count": 33,
   "metadata": {
    "ExecuteTime": {
     "end_time": "2020-02-04T06:07:59.893516Z",
     "start_time": "2020-02-04T06:07:59.532287Z"
    }
   },
   "outputs": [],
   "source": [
    "df_1['location']=df_1.apply(lambda row:location(row),axis=1) #calling function"
   ]
  },
  {
   "cell_type": "code",
   "execution_count": 34,
   "metadata": {
    "ExecuteTime": {
     "end_time": "2020-02-04T06:08:00.429623Z",
     "start_time": "2020-02-04T06:08:00.233846Z"
    }
   },
   "outputs": [
    {
     "data": {
      "text/html": [
       "<div>\n",
       "<style scoped>\n",
       "    .dataframe tbody tr th:only-of-type {\n",
       "        vertical-align: middle;\n",
       "    }\n",
       "\n",
       "    .dataframe tbody tr th {\n",
       "        vertical-align: top;\n",
       "    }\n",
       "\n",
       "    .dataframe thead th {\n",
       "        text-align: right;\n",
       "    }\n",
       "</style>\n",
       "<table border=\"1\" class=\"dataframe\">\n",
       "  <thead>\n",
       "    <tr style=\"text-align: right;\">\n",
       "      <th></th>\n",
       "      <th>reviews</th>\n",
       "      <th>recommendation</th>\n",
       "      <th>location</th>\n",
       "    </tr>\n",
       "  </thead>\n",
       "  <tbody>\n",
       "    <tr>\n",
       "      <th>0</th>\n",
       "      <td>Dr Sanjiv Shah is a very intelligent, thorough...</td>\n",
       "      <td>I recommend the doctor</td>\n",
       "      <td>Mumbai</td>\n",
       "    </tr>\n",
       "    <tr>\n",
       "      <th>1</th>\n",
       "      <td>Doctor is result oriented and I am very satisf...</td>\n",
       "      <td>I recommend the doctor</td>\n",
       "      <td>Mumbai</td>\n",
       "    </tr>\n",
       "    <tr>\n",
       "      <th>2</th>\n",
       "      <td>Dr Sanjiv Shah is a renouned diabatologist and...</td>\n",
       "      <td>I recommend the doctor</td>\n",
       "      <td>Mumbai</td>\n",
       "    </tr>\n",
       "    <tr>\n",
       "      <th>3</th>\n",
       "      <td>I only trust him with my thyroid treatment , e...</td>\n",
       "      <td>I recommend the doctor</td>\n",
       "      <td>Mumbai</td>\n",
       "    </tr>\n",
       "    <tr>\n",
       "      <th>4</th>\n",
       "      <td>Dr Sanjiv Shah was very friendly.He explained ...</td>\n",
       "      <td>I recommend the doctor</td>\n",
       "      <td>Mumbai</td>\n",
       "    </tr>\n",
       "  </tbody>\n",
       "</table>\n",
       "</div>"
      ],
      "text/plain": [
       "                                             reviews          recommendation  \\\n",
       "0  Dr Sanjiv Shah is a very intelligent, thorough...  I recommend the doctor   \n",
       "1  Doctor is result oriented and I am very satisf...  I recommend the doctor   \n",
       "2  Dr Sanjiv Shah is a renouned diabatologist and...  I recommend the doctor   \n",
       "3  I only trust him with my thyroid treatment , e...  I recommend the doctor   \n",
       "4  Dr Sanjiv Shah was very friendly.He explained ...  I recommend the doctor   \n",
       "\n",
       "  location  \n",
       "0   Mumbai  \n",
       "1   Mumbai  \n",
       "2   Mumbai  \n",
       "3   Mumbai  \n",
       "4   Mumbai  "
      ]
     },
     "execution_count": 34,
     "metadata": {},
     "output_type": "execute_result"
    }
   ],
   "source": [
    "df_1.head()"
   ]
  },
  {
   "cell_type": "code",
   "execution_count": 35,
   "metadata": {
    "ExecuteTime": {
     "end_time": "2020-02-04T06:08:35.250906Z",
     "start_time": "2020-02-04T06:08:34.472961Z"
    }
   },
   "outputs": [],
   "source": [
    "df_1.to_csv('doctor_Mumbai.csv',index=False) #saving as CSV"
   ]
  },
  {
   "cell_type": "code",
   "execution_count": null,
   "metadata": {
    "ExecuteTime": {
     "end_time": "2020-02-03T06:39:14.404486Z",
     "start_time": "2020-02-03T06:39:14.399483Z"
    }
   },
   "outputs": [],
   "source": []
  },
  {
   "cell_type": "code",
   "execution_count": null,
   "metadata": {},
   "outputs": [],
   "source": []
  }
 ],
 "metadata": {
  "kernelspec": {
   "display_name": "Python 3",
   "language": "python",
   "name": "python3"
  },
  "language_info": {
   "codemirror_mode": {
    "name": "ipython",
    "version": 3
   },
   "file_extension": ".py",
   "mimetype": "text/x-python",
   "name": "python",
   "nbconvert_exporter": "python",
   "pygments_lexer": "ipython3",
   "version": "3.7.5"
  },
  "varInspector": {
   "cols": {
    "lenName": 16,
    "lenType": 16,
    "lenVar": 40
   },
   "kernels_config": {
    "python": {
     "delete_cmd_postfix": "",
     "delete_cmd_prefix": "del ",
     "library": "var_list.py",
     "varRefreshCmd": "print(var_dic_list())"
    },
    "r": {
     "delete_cmd_postfix": ") ",
     "delete_cmd_prefix": "rm(",
     "library": "var_list.r",
     "varRefreshCmd": "cat(var_dic_list()) "
    }
   },
   "types_to_exclude": [
    "module",
    "function",
    "builtin_function_or_method",
    "instance",
    "_Feature"
   ],
   "window_display": false
  }
 },
 "nbformat": 4,
 "nbformat_minor": 2
}
